{
 "cells": [
  {
   "cell_type": "markdown",
   "id": "2fef0159-a163-4381-bc54-667cfab40ab8",
   "metadata": {},
   "source": [
    "# Logistic Regression"
   ]
  },
  {
   "cell_type": "markdown",
   "id": "693f3a76-74ce-45da-91bc-418ba99c776a",
   "metadata": {},
   "source": [
    "## Step 1: Create the Spark Session Object"
   ]
  },
  {
   "cell_type": "markdown",
   "id": "1cff72b7-d859-4953-859d-c488f96039b4",
   "metadata": {},
   "source": [
    "We start the Jupyter Notebook and import `SparkSession` and create a new \n",
    "`SparkSession` object to use Spark"
   ]
  },
  {
   "cell_type": "code",
   "execution_count": 1,
   "id": "5bdad086-cd4e-4b12-8c46-4b82635ce951",
   "metadata": {},
   "outputs": [],
   "source": [
    "import findspark\n",
    "findspark.init()"
   ]
  },
  {
   "cell_type": "code",
   "execution_count": 3,
   "id": "6cfb2358-a738-4b8c-a177-3471fbb09074",
   "metadata": {},
   "outputs": [],
   "source": [
    "from pyspark.sql import SparkSession\n",
    "\n",
    "spark = SparkSession.builder.appName('log_reg').getOrCreate()"
   ]
  },
  {
   "cell_type": "markdown",
   "id": "545920e6-7631-466a-bb76-e95868d1d446",
   "metadata": {},
   "source": [
    "## Step 2: Read the Dataset"
   ]
  },
  {
   "cell_type": "markdown",
   "id": "33bee640-aa13-4418-884b-7a68475d4bef",
   "metadata": {},
   "source": [
    "We then load and read the dataset within Spark using Dataframe. We have \n",
    "to make sure we have opened the PySpark from the same directory folder \n",
    "where the dataset is available or else we have to mention the directory path \n",
    "of the data folder"
   ]
  },
  {
   "cell_type": "code",
   "execution_count": 4,
   "id": "59298192-bf31-43c4-a6d1-49e0e4a29417",
   "metadata": {},
   "outputs": [],
   "source": [
    "df = spark.read.csv('Log_Reg_dataset.csv', inferSchema=True, header=True)"
   ]
  },
  {
   "cell_type": "markdown",
   "id": "26a9c084-a353-459f-b90f-feba02f2064f",
   "metadata": {},
   "source": [
    "## Step 3: Exploratory Data Analysis"
   ]
  },
  {
   "cell_type": "markdown",
   "id": "014b77fb-c5bd-4260-9af1-6a271a26ffa6",
   "metadata": {},
   "source": [
    "In this section, we drill deeper into the dataset by viewing the dataset \n",
    "and validating the shape of the it and various statistical measures of the \n",
    "variables"
   ]
  },
  {
   "cell_type": "code",
   "execution_count": 5,
   "id": "79f971ba-9259-4de9-8b7a-8b6ef0f6cb44",
   "metadata": {},
   "outputs": [
    {
     "name": "stdout",
     "output_type": "stream",
     "text": [
      "(20000, 6)\n"
     ]
    }
   ],
   "source": [
    "print((df.count(), len(df.columns)))"
   ]
  },
  {
   "cell_type": "code",
   "execution_count": 6,
   "id": "d988f14c-b805-4ce8-a736-24cdd2dfc30b",
   "metadata": {},
   "outputs": [
    {
     "name": "stdout",
     "output_type": "stream",
     "text": [
      "root\n",
      " |-- Country: string (nullable = true)\n",
      " |-- Age: integer (nullable = true)\n",
      " |-- Repeat_Visitor: integer (nullable = true)\n",
      " |-- Platform: string (nullable = true)\n",
      " |-- Web_pages_viewed: integer (nullable = true)\n",
      " |-- Status: integer (nullable = true)\n",
      "\n"
     ]
    }
   ],
   "source": [
    "df.printSchema()"
   ]
  },
  {
   "cell_type": "code",
   "execution_count": 7,
   "id": "a48f5ddb-e478-478b-b6b0-75ab1f61371c",
   "metadata": {},
   "outputs": [
    {
     "name": "stdout",
     "output_type": "stream",
     "text": [
      "+---------+---+--------------+--------+----------------+------+\n",
      "|  Country|Age|Repeat_Visitor|Platform|Web_pages_viewed|Status|\n",
      "+---------+---+--------------+--------+----------------+------+\n",
      "|    India| 41|             1|   Yahoo|              21|     1|\n",
      "|   Brazil| 28|             1|   Yahoo|               5|     0|\n",
      "|   Brazil| 40|             0|  Google|               3|     0|\n",
      "|Indonesia| 31|             1|    Bing|              15|     1|\n",
      "| Malaysia| 32|             0|  Google|              15|     1|\n",
      "+---------+---+--------------+--------+----------------+------+\n",
      "only showing top 5 rows\n",
      "\n"
     ]
    }
   ],
   "source": [
    "df.show(5)"
   ]
  },
  {
   "cell_type": "code",
   "execution_count": 8,
   "id": "0953978b-b977-4a77-a03a-236512607082",
   "metadata": {},
   "outputs": [
    {
     "name": "stdout",
     "output_type": "stream",
     "text": [
      "+-------+--------+-----------------+-----------------+--------+-----------------+------------------+\n",
      "|summary| Country|              Age|   Repeat_Visitor|Platform| Web_pages_viewed|            Status|\n",
      "+-------+--------+-----------------+-----------------+--------+-----------------+------------------+\n",
      "|  count|   20000|            20000|            20000|   20000|            20000|             20000|\n",
      "|   mean|    null|         28.53955|           0.5029|    null|           9.5533|               0.5|\n",
      "| stddev|    null|7.888912950773227|0.500004090187782|    null|6.073903499824976|0.5000125004687693|\n",
      "|    min|  Brazil|               17|                0|    Bing|                1|                 0|\n",
      "|    max|Malaysia|              111|                1|   Yahoo|               29|                 1|\n",
      "+-------+--------+-----------------+-----------------+--------+-----------------+------------------+\n",
      "\n"
     ]
    }
   ],
   "source": [
    "df.describe().show()"
   ]
  },
  {
   "cell_type": "code",
   "execution_count": 9,
   "id": "db1742b0-6b20-4993-a502-478c69307d3d",
   "metadata": {},
   "outputs": [
    {
     "name": "stdout",
     "output_type": "stream",
     "text": [
      "+---------+-----+\n",
      "|  Country|count|\n",
      "+---------+-----+\n",
      "| Malaysia| 1218|\n",
      "|    India| 4018|\n",
      "|Indonesia|12178|\n",
      "|   Brazil| 2586|\n",
      "+---------+-----+\n",
      "\n"
     ]
    }
   ],
   "source": [
    "df.groupBy('Country').count().show()"
   ]
  },
  {
   "cell_type": "code",
   "execution_count": 11,
   "id": "2b183323-f527-4a11-ab4a-505425705796",
   "metadata": {},
   "outputs": [
    {
     "name": "stdout",
     "output_type": "stream",
     "text": [
      "+--------+-----+\n",
      "|Platform|count|\n",
      "+--------+-----+\n",
      "|   Yahoo| 9859|\n",
      "|    Bing| 4360|\n",
      "|  Google| 5781|\n",
      "+--------+-----+\n",
      "\n"
     ]
    }
   ],
   "source": [
    "df.groupBy('Platform').count().show()"
   ]
  },
  {
   "cell_type": "code",
   "execution_count": 12,
   "id": "f446f54f-0993-425a-80fc-ef3c34788055",
   "metadata": {},
   "outputs": [
    {
     "name": "stdout",
     "output_type": "stream",
     "text": [
      "+------+-----+\n",
      "|Status|count|\n",
      "+------+-----+\n",
      "|     1|10000|\n",
      "|     0|10000|\n",
      "+------+-----+\n",
      "\n"
     ]
    }
   ],
   "source": [
    "df.groupBy('Status').count().show()"
   ]
  },
  {
   "cell_type": "code",
   "execution_count": 13,
   "id": "854f223d-69bb-4f73-a333-61b887dfba94",
   "metadata": {},
   "outputs": [
    {
     "name": "stdout",
     "output_type": "stream",
     "text": [
      "+---------+------------------+-------------------+---------------------+--------------------+\n",
      "|  Country|          avg(Age)|avg(Repeat_Visitor)|avg(Web_pages_viewed)|         avg(Status)|\n",
      "+---------+------------------+-------------------+---------------------+--------------------+\n",
      "| Malaysia|27.792282430213465| 0.5730706075533661|   11.192118226600986|  0.6568144499178982|\n",
      "|    India|27.976854156296664| 0.5433051269288203|   10.727227476356397|  0.6212045793927327|\n",
      "|Indonesia| 28.43159796354081| 0.5207751683363442|    9.985711939563148|  0.5422893742814913|\n",
      "|   Brazil|30.274168600154677|  0.322892498066512|    4.921113689095128|0.038669760247486466|\n",
      "+---------+------------------+-------------------+---------------------+--------------------+\n",
      "\n"
     ]
    }
   ],
   "source": [
    "df.groupBy('Country').mean().show()"
   ]
  },
  {
   "cell_type": "code",
   "execution_count": 15,
   "id": "79c54f10-ad82-4e44-a579-c4cee8007859",
   "metadata": {},
   "outputs": [
    {
     "name": "stdout",
     "output_type": "stream",
     "text": [
      "+--------+------------------+-------------------+---------------------+------------------+\n",
      "|Platform|          avg(Age)|avg(Repeat_Visitor)|avg(Web_pages_viewed)|       avg(Status)|\n",
      "+--------+------------------+-------------------+---------------------+------------------+\n",
      "|   Yahoo|28.569226087838523| 0.5094837204584644|    9.599655137437875|0.5071508266558474|\n",
      "|    Bing| 28.68394495412844| 0.4720183486238532|    9.114908256880733|0.4559633027522936|\n",
      "|  Google|28.380038055699707| 0.5149628092025601|    9.804878048780488|0.5210171250648676|\n",
      "+--------+------------------+-------------------+---------------------+------------------+\n",
      "\n"
     ]
    }
   ],
   "source": [
    "df.groupBy('Platform').mean().show()"
   ]
  },
  {
   "cell_type": "code",
   "execution_count": 17,
   "id": "fd84c2cc-3b64-42ea-b59b-f03be716bbc6",
   "metadata": {},
   "outputs": [
    {
     "name": "stdout",
     "output_type": "stream",
     "text": [
      "+------+--------+-------------------+---------------------+-----------+\n",
      "|Status|avg(Age)|avg(Repeat_Visitor)|avg(Web_pages_viewed)|avg(Status)|\n",
      "+------+--------+-------------------+---------------------+-----------+\n",
      "|     1| 26.5435|             0.7019|              14.5617|        1.0|\n",
      "|     0| 30.5356|             0.3039|               4.5449|        0.0|\n",
      "+------+--------+-------------------+---------------------+-----------+\n",
      "\n"
     ]
    }
   ],
   "source": [
    "df.groupBy(\"Status\").mean().show()"
   ]
  },
  {
   "cell_type": "markdown",
   "id": "2c94cac6-5996-4838-bfd5-2f693f5976a4",
   "metadata": {},
   "source": [
    "## Step 4: Feature Engineering"
   ]
  },
  {
   "cell_type": "markdown",
   "id": "71fdab7d-c790-480c-8340-3994a093ad38",
   "metadata": {},
   "source": [
    "This is the part where we convert the categorical variable into numerical \n",
    "form and create a single vector combining all the input features by using \n",
    "Spark’s `VectorAssembler`."
   ]
  },
  {
   "cell_type": "code",
   "execution_count": 19,
   "id": "d37e82ee-dfa1-42a5-bbac-34e27806ed85",
   "metadata": {},
   "outputs": [],
   "source": [
    "from pyspark.ml.feature import StringIndexer\n",
    "from pyspark.ml.feature import VectorAssembler"
   ]
  },
  {
   "cell_type": "markdown",
   "id": "5b34ca89-24c8-45de-9a32-97c75fd96200",
   "metadata": {},
   "source": [
    "The first step is to label the column using `StringIndexer` into \n",
    "`numerical` form. It allocates unique values to each of the categories of the \n",
    "column. So, in the below example, all of the three values of search engine \n",
    "(Yahoo, Google, Bing) are assigned values (0.0,1.0,2.0). This is visible in the \n",
    "column named `platform_num`"
   ]
  },
  {
   "cell_type": "code",
   "execution_count": 20,
   "id": "5f8b281b-48f4-4528-8dd9-80f73f0dd4d8",
   "metadata": {},
   "outputs": [],
   "source": [
    "platform_indexer = StringIndexer(inputCol=\"Platform\", outputCol=\"Platform_Num\").fit(df)"
   ]
  },
  {
   "cell_type": "code",
   "execution_count": 21,
   "id": "7ebad0b7-6360-4e24-a012-e38074ab4326",
   "metadata": {},
   "outputs": [],
   "source": [
    "df = platform_indexer.transform(df)"
   ]
  },
  {
   "cell_type": "code",
   "execution_count": 22,
   "id": "e9ce1287-a4f6-4806-a992-d6babe61439c",
   "metadata": {},
   "outputs": [
    {
     "name": "stdout",
     "output_type": "stream",
     "text": [
      "+-------+---+--------------+--------+----------------+------+------------+\n",
      "|Country|Age|Repeat_Visitor|Platform|Web_pages_viewed|Status|Platform_Num|\n",
      "+-------+---+--------------+--------+----------------+------+------------+\n",
      "|India  |41 |1             |Yahoo   |21              |1     |0.0         |\n",
      "|Brazil |28 |1             |Yahoo   |5               |0     |0.0         |\n",
      "|Brazil |40 |0             |Google  |3               |0     |1.0         |\n",
      "+-------+---+--------------+--------+----------------+------+------------+\n",
      "only showing top 3 rows\n",
      "\n"
     ]
    }
   ],
   "source": [
    "df.show(3, False)"
   ]
  },
  {
   "cell_type": "code",
   "execution_count": 24,
   "id": "c1d27241-5bd0-4fef-9e11-4376dd457f50",
   "metadata": {},
   "outputs": [
    {
     "name": "stdout",
     "output_type": "stream",
     "text": [
      "+--------+-----+\n",
      "|Platform|count|\n",
      "+--------+-----+\n",
      "|Yahoo   |9859 |\n",
      "|Google  |5781 |\n",
      "|Bing    |4360 |\n",
      "+--------+-----+\n",
      "\n"
     ]
    }
   ],
   "source": [
    "df.groupBy('Platform').count().orderBy('count', ascending=False).show(5,False)"
   ]
  },
  {
   "cell_type": "code",
   "execution_count": 25,
   "id": "c0b514e9-085c-4e20-a786-c085974fe6dc",
   "metadata": {},
   "outputs": [
    {
     "name": "stdout",
     "output_type": "stream",
     "text": [
      "+------------+-----+\n",
      "|Platform_Num|count|\n",
      "+------------+-----+\n",
      "|0.0         |9859 |\n",
      "|1.0         |5781 |\n",
      "|2.0         |4360 |\n",
      "+------------+-----+\n",
      "\n"
     ]
    }
   ],
   "source": [
    "df.groupBy('Platform_Num').count().orderBy('count', ascending=False).show(5,False)"
   ]
  },
  {
   "cell_type": "markdown",
   "id": "e09c514d-6fdf-4003-94a8-49fc04070453",
   "metadata": {},
   "source": [
    "The next step is to represent each of these values into the form of a \n",
    "one hot encoded vector. However, this vector is a little different in terms of \n",
    "representation as it captures the values and position of the values in the vector"
   ]
  },
  {
   "cell_type": "code",
   "execution_count": 26,
   "id": "dea2d279-dd1b-407c-a623-6d51f16ab43a",
   "metadata": {},
   "outputs": [],
   "source": [
    "from pyspark.ml.feature import OneHotEncoder"
   ]
  },
  {
   "cell_type": "code",
   "execution_count": 29,
   "id": "f638ddd8-0d1f-44f0-9f39-202c29fbeff5",
   "metadata": {},
   "outputs": [],
   "source": [
    "platform_encoder = OneHotEncoder(inputCol=\"Platform_Num\", outputCol=\"Platform_Vector\").fit(df)"
   ]
  },
  {
   "cell_type": "code",
   "execution_count": 30,
   "id": "52ac80c6-6673-459a-9b04-5c28f1bc63bf",
   "metadata": {},
   "outputs": [],
   "source": [
    "df = platform_encoder.transform(df)"
   ]
  },
  {
   "cell_type": "code",
   "execution_count": 31,
   "id": "5e7addd6-f627-4be6-a34a-10231de34fb4",
   "metadata": {},
   "outputs": [
    {
     "name": "stdout",
     "output_type": "stream",
     "text": [
      "+-------+---+--------------+--------+----------------+------+------------+---------------+\n",
      "|Country|Age|Repeat_Visitor|Platform|Web_pages_viewed|Status|Platform_Num|Platform_Vector|\n",
      "+-------+---+--------------+--------+----------------+------+------------+---------------+\n",
      "|India  |41 |1             |Yahoo   |21              |1     |0.0         |(2,[0],[1.0])  |\n",
      "|Brazil |28 |1             |Yahoo   |5               |0     |0.0         |(2,[0],[1.0])  |\n",
      "|Brazil |40 |0             |Google  |3               |0     |1.0         |(2,[1],[1.0])  |\n",
      "+-------+---+--------------+--------+----------------+------+------------+---------------+\n",
      "only showing top 3 rows\n",
      "\n"
     ]
    }
   ],
   "source": [
    "df.show(3,False)"
   ]
  },
  {
   "cell_type": "code",
   "execution_count": 32,
   "id": "484abb6b-0b21-400b-8acd-37071c817fbd",
   "metadata": {},
   "outputs": [
    {
     "name": "stdout",
     "output_type": "stream",
     "text": [
      "+---------------+-----+\n",
      "|Platform_Vector|count|\n",
      "+---------------+-----+\n",
      "|(2,[0],[1.0])  |9859 |\n",
      "|(2,[1],[1.0])  |5781 |\n",
      "|(2,[],[])      |4360 |\n",
      "+---------------+-----+\n",
      "\n"
     ]
    }
   ],
   "source": [
    "df.groupBy('Platform_Vector').count().orderBy('count', ascending=False).show(5,False)"
   ]
  },
  {
   "cell_type": "markdown",
   "id": "4b804417-4a14-4ce2-a6a8-49516367f98d",
   "metadata": {},
   "source": [
    "The final feature that we would be using for building Logistic \n",
    "Regression is Search_Engine_Vector. Let’s understand what these column \n",
    "values represent.\n",
    "\n",
    "`(2,[0],[1.0])` represents a vector of length 2 , with 1 value :\n",
    "\n",
    "- Size of Vector – 2\n",
    "- Value contained in vector – 1.0\n",
    "- Position of 1.0 value in vector – 0th place"
   ]
  },
  {
   "cell_type": "markdown",
   "id": "b2518990-3b66-44f6-9321-b05775d4c4da",
   "metadata": {},
   "source": [
    "Let’s repeat the same procedure for the other categorical column \n",
    "(Country)"
   ]
  },
  {
   "cell_type": "code",
   "execution_count": 33,
   "id": "d894a5a6-e808-421f-bd59-584f9760de79",
   "metadata": {},
   "outputs": [],
   "source": [
    "country_indexer = StringIndexer(inputCol=\"Country\", outputCol=\"Country_Num\").fit(df)"
   ]
  },
  {
   "cell_type": "code",
   "execution_count": 34,
   "id": "8dca5bdd-f31c-47fa-85c6-550a2cb206d6",
   "metadata": {},
   "outputs": [],
   "source": [
    "df = country_indexer.transform(df)"
   ]
  },
  {
   "cell_type": "code",
   "execution_count": 35,
   "id": "3b830722-72bd-4195-8bb0-d4aa73218648",
   "metadata": {},
   "outputs": [
    {
     "name": "stdout",
     "output_type": "stream",
     "text": [
      "+---------+-----+\n",
      "|Country  |count|\n",
      "+---------+-----+\n",
      "|Indonesia|12178|\n",
      "|India    |4018 |\n",
      "|Brazil   |2586 |\n",
      "|Malaysia |1218 |\n",
      "+---------+-----+\n",
      "\n"
     ]
    }
   ],
   "source": [
    "df.groupBy('Country').count().orderBy('count', ascending=False).show(5,False)"
   ]
  },
  {
   "cell_type": "code",
   "execution_count": 36,
   "id": "75f27d25-80c5-45ba-80fb-45e6fb271555",
   "metadata": {},
   "outputs": [
    {
     "name": "stdout",
     "output_type": "stream",
     "text": [
      "+-----------+-----+\n",
      "|Country_Num|count|\n",
      "+-----------+-----+\n",
      "|0.0        |12178|\n",
      "|1.0        |4018 |\n",
      "|2.0        |2586 |\n",
      "|3.0        |1218 |\n",
      "+-----------+-----+\n",
      "\n"
     ]
    }
   ],
   "source": [
    "df.groupBy('Country_Num').count().orderBy('count', ascending=False).show(5,False)"
   ]
  },
  {
   "cell_type": "code",
   "execution_count": 39,
   "id": "3ea994cd-7381-4fbf-a667-56b8476cb787",
   "metadata": {},
   "outputs": [],
   "source": [
    "country_encoder = OneHotEncoder(inputCol=\"Country_Num\", outputCol=\"Country_Vector\").fit(df)\n",
    "df = country_encoder.transform(df)"
   ]
  },
  {
   "cell_type": "code",
   "execution_count": 40,
   "id": "9317f4d2-3f7a-4654-aedd-87b79632b663",
   "metadata": {},
   "outputs": [
    {
     "name": "stdout",
     "output_type": "stream",
     "text": [
      "+-------+-----------+--------------+\n",
      "|Country|Country_Num|Country_Vector|\n",
      "+-------+-----------+--------------+\n",
      "|India  |1.0        |(3,[1],[1.0]) |\n",
      "|Brazil |2.0        |(3,[2],[1.0]) |\n",
      "|Brazil |2.0        |(3,[2],[1.0]) |\n",
      "+-------+-----------+--------------+\n",
      "only showing top 3 rows\n",
      "\n"
     ]
    }
   ],
   "source": [
    "df.select(['Country','Country_Num','Country_Vector']).show(3,False)"
   ]
  },
  {
   "cell_type": "code",
   "execution_count": 41,
   "id": "378af7c7-c78a-4958-8554-838d6acb82e8",
   "metadata": {},
   "outputs": [
    {
     "name": "stdout",
     "output_type": "stream",
     "text": [
      "+--------------+-----+\n",
      "|Country_Vector|count|\n",
      "+--------------+-----+\n",
      "|(3,[0],[1.0]) |12178|\n",
      "|(3,[1],[1.0]) |4018 |\n",
      "|(3,[2],[1.0]) |2586 |\n",
      "|(3,[],[])     |1218 |\n",
      "+--------------+-----+\n",
      "\n"
     ]
    }
   ],
   "source": [
    "df.groupBy('Country_Vector').count().orderBy('count', ascending=False).show(5,False)"
   ]
  },
  {
   "cell_type": "markdown",
   "id": "3c45fb2f-4386-4bd3-9718-89238e521b12",
   "metadata": {},
   "source": [
    "Now that we have converted both the categorical columns into \n",
    "numerical forms, we need to assemble all of the input columns into a \n",
    "single vector that would act as the input feature for the model"
   ]
  },
  {
   "cell_type": "code",
   "execution_count": 45,
   "id": "f04907ed-e487-4fc4-bf5d-e650ca9ebbf7",
   "metadata": {},
   "outputs": [],
   "source": [
    "df_assembler = VectorAssembler(inputCols=['Platform_Vector','Country_Vector','Age', 'Repeat_Visitor', 'Web_pages_viewed'], outputCol=\"features\")"
   ]
  },
  {
   "cell_type": "code",
   "execution_count": 46,
   "id": "7af4b315-df3c-4e56-af48-8d0985e79a72",
   "metadata": {},
   "outputs": [],
   "source": [
    "df = df_assembler.transform(df)"
   ]
  },
  {
   "cell_type": "code",
   "execution_count": 47,
   "id": "41ca85ce-0e9b-43bb-bd8f-79796c46a750",
   "metadata": {},
   "outputs": [
    {
     "name": "stdout",
     "output_type": "stream",
     "text": [
      "root\n",
      " |-- Country: string (nullable = true)\n",
      " |-- Age: integer (nullable = true)\n",
      " |-- Repeat_Visitor: integer (nullable = true)\n",
      " |-- Platform: string (nullable = true)\n",
      " |-- Web_pages_viewed: integer (nullable = true)\n",
      " |-- Status: integer (nullable = true)\n",
      " |-- Platform_Num: double (nullable = false)\n",
      " |-- Platform_Vector: vector (nullable = true)\n",
      " |-- Country_Num: double (nullable = false)\n",
      " |-- Country_Vector: vector (nullable = true)\n",
      " |-- features: vector (nullable = true)\n",
      "\n"
     ]
    }
   ],
   "source": [
    "df.printSchema()"
   ]
  },
  {
   "cell_type": "code",
   "execution_count": 48,
   "id": "3c6f0fc3-c4a1-44d3-8dfe-540724e74489",
   "metadata": {},
   "outputs": [
    {
     "name": "stdout",
     "output_type": "stream",
     "text": [
      "+-----------------------------------+------+\n",
      "|features                           |Status|\n",
      "+-----------------------------------+------+\n",
      "|[1.0,0.0,0.0,1.0,0.0,41.0,1.0,21.0]|1     |\n",
      "|[1.0,0.0,0.0,0.0,1.0,28.0,1.0,5.0] |0     |\n",
      "|(8,[1,4,5,7],[1.0,1.0,40.0,3.0])   |0     |\n",
      "|(8,[2,5,6,7],[1.0,31.0,1.0,15.0])  |1     |\n",
      "|(8,[1,5,7],[1.0,32.0,15.0])        |1     |\n",
      "|(8,[1,4,5,7],[1.0,1.0,32.0,3.0])   |0     |\n",
      "|(8,[1,4,5,7],[1.0,1.0,32.0,6.0])   |0     |\n",
      "|(8,[1,2,5,7],[1.0,1.0,27.0,9.0])   |0     |\n",
      "|(8,[0,2,5,7],[1.0,1.0,32.0,2.0])   |0     |\n",
      "|(8,[2,5,6,7],[1.0,31.0,1.0,16.0])  |1     |\n",
      "+-----------------------------------+------+\n",
      "only showing top 10 rows\n",
      "\n"
     ]
    }
   ],
   "source": [
    "df.select(['features','Status']).show(10,False)"
   ]
  },
  {
   "cell_type": "code",
   "execution_count": 50,
   "id": "fdd3ee19-60fc-4704-979d-8610bce2d2da",
   "metadata": {},
   "outputs": [],
   "source": [
    "model_df = df.select(['features','Status'])"
   ]
  },
  {
   "cell_type": "markdown",
   "id": "af491838-53d7-4735-b25e-35a045966db4",
   "metadata": {},
   "source": [
    "## Step 5: Splitting the Dataset"
   ]
  },
  {
   "cell_type": "markdown",
   "id": "7e28c859-4441-453e-99a2-538f58cec6e4",
   "metadata": {},
   "source": [
    "We have to split the dataset into a training and test dataset in order to train \n",
    "and evaluate the performance of the logistic regression model. We split it \n",
    "in a 75/25 ratio and train our model on 75% of the dataset"
   ]
  },
  {
   "cell_type": "code",
   "execution_count": 52,
   "id": "2b3e9c34-e281-49d5-85eb-1bcf63466301",
   "metadata": {},
   "outputs": [
    {
     "name": "stdout",
     "output_type": "stream",
     "text": [
      "15036\n"
     ]
    }
   ],
   "source": [
    "training_df, test_df=model_df.randomSplit([0.75,0.25])\n",
    "\n",
    "print(training_df.count())"
   ]
  },
  {
   "cell_type": "code",
   "execution_count": 54,
   "id": "92d19b60-a4cc-492f-9be8-4a9bc7f8d254",
   "metadata": {},
   "outputs": [
    {
     "name": "stdout",
     "output_type": "stream",
     "text": [
      "+------+-----+\n",
      "|Status|count|\n",
      "+------+-----+\n",
      "|     1| 7503|\n",
      "|     0| 7533|\n",
      "+------+-----+\n",
      "\n"
     ]
    }
   ],
   "source": [
    "training_df.groupBy('Status').count().show()"
   ]
  },
  {
   "cell_type": "code",
   "execution_count": 55,
   "id": "8c809056-557c-4668-ba2f-24546226c71c",
   "metadata": {},
   "outputs": [
    {
     "name": "stdout",
     "output_type": "stream",
     "text": [
      "4964\n"
     ]
    }
   ],
   "source": [
    "print(test_df.count())"
   ]
  },
  {
   "cell_type": "code",
   "execution_count": 56,
   "id": "25421289-6fed-461d-bc6a-47468a1a7d47",
   "metadata": {},
   "outputs": [
    {
     "name": "stdout",
     "output_type": "stream",
     "text": [
      "+------+-----+\n",
      "|Status|count|\n",
      "+------+-----+\n",
      "|     1| 2497|\n",
      "|     0| 2467|\n",
      "+------+-----+\n",
      "\n"
     ]
    }
   ],
   "source": [
    "test_df.groupBy('Status').count().show()"
   ]
  },
  {
   "cell_type": "markdown",
   "id": "6df45f2e-b1c7-45d0-9070-11c88b07fbec",
   "metadata": {},
   "source": [
    "## Step 6: Build and Train Logistic Regression Model"
   ]
  },
  {
   "cell_type": "markdown",
   "id": "eed8e535-2d25-4751-be0c-6cd55042f2e7",
   "metadata": {},
   "source": [
    "In this part, we build and train the logistic regression model using features \n",
    "as the input column and status as the output column"
   ]
  },
  {
   "cell_type": "code",
   "execution_count": 57,
   "id": "7a346214-2a5d-410d-adf9-7aff35b4665f",
   "metadata": {},
   "outputs": [],
   "source": [
    "from pyspark.ml.classification import LogisticRegression\n",
    "\n",
    "log_reg = LogisticRegression(labelCol='Status').fit(training_df)"
   ]
  },
  {
   "cell_type": "markdown",
   "id": "823f7cec-0e86-4b94-a9b5-a4f5bf5b0140",
   "metadata": {},
   "source": [
    "**Training Results**"
   ]
  },
  {
   "cell_type": "markdown",
   "id": "55424970-5c3a-473b-9f78-c3279678f3d3",
   "metadata": {},
   "source": [
    "We can access the predictions made by the model using the evaluate \n",
    "function in Spark that executes all the steps in an optimized way"
   ]
  },
  {
   "cell_type": "code",
   "execution_count": 58,
   "id": "b1fc7200-af3f-410b-9be8-86cdbc21f557",
   "metadata": {},
   "outputs": [
    {
     "name": "stdout",
     "output_type": "stream",
     "text": [
      "+------+----------+----------------------------------------+\n",
      "|Status|prediction|probability                             |\n",
      "+------+----------+----------------------------------------+\n",
      "|1     |1.0       |[0.29715906565948313,0.702840934340517] |\n",
      "|1     |1.0       |[0.29715906565948313,0.702840934340517] |\n",
      "|1     |1.0       |[0.29715906565948313,0.702840934340517] |\n",
      "|1     |1.0       |[0.1657221080655377,0.8342778919344622] |\n",
      "|1     |1.0       |[0.1657221080655377,0.8342778919344622] |\n",
      "|1     |1.0       |[0.08536058881615723,0.9146394111838427]|\n",
      "|1     |1.0       |[0.08536058881615723,0.9146394111838427]|\n",
      "|1     |1.0       |[0.08536058881615723,0.9146394111838427]|\n",
      "|1     |1.0       |[0.08536058881615723,0.9146394111838427]|\n",
      "|1     |1.0       |[0.08536058881615723,0.9146394111838427]|\n",
      "+------+----------+----------------------------------------+\n",
      "only showing top 10 rows\n",
      "\n"
     ]
    }
   ],
   "source": [
    "train_results = log_reg.evaluate(training_df).predictions\n",
    "train_results.filter(train_results['Status']==1).filter(train_results['prediction']==1).select(['Status','prediction','probability']).show(10,False)"
   ]
  },
  {
   "cell_type": "markdown",
   "id": "c02e9057-beb7-46c2-96e8-bbe5eacaf0f0",
   "metadata": {},
   "source": [
    "## Step 7: Evaluate Linear Regression Model on Test Data"
   ]
  },
  {
   "cell_type": "code",
   "execution_count": 59,
   "id": "c8733f62-33c9-42b0-b85b-b8bfa24088e7",
   "metadata": {},
   "outputs": [
    {
     "name": "stdout",
     "output_type": "stream",
     "text": [
      "root\n",
      " |-- features: vector (nullable = true)\n",
      " |-- Status: integer (nullable = true)\n",
      " |-- rawPrediction: vector (nullable = true)\n",
      " |-- probability: vector (nullable = true)\n",
      " |-- prediction: double (nullable = false)\n",
      "\n"
     ]
    }
   ],
   "source": [
    "results = log_reg.evaluate(test_df).predictions\n",
    "results.printSchema()"
   ]
  },
  {
   "cell_type": "code",
   "execution_count": 61,
   "id": "524328b3-870d-4117-a449-eabd5faccf07",
   "metadata": {},
   "outputs": [
    {
     "name": "stdout",
     "output_type": "stream",
     "text": [
      "+------+----------+\n",
      "|Status|prediction|\n",
      "+------+----------+\n",
      "|0     |0.0       |\n",
      "|0     |0.0       |\n",
      "|0     |0.0       |\n",
      "|0     |0.0       |\n",
      "|0     |0.0       |\n",
      "|0     |0.0       |\n",
      "|0     |0.0       |\n",
      "|0     |0.0       |\n",
      "|0     |0.0       |\n",
      "|0     |0.0       |\n",
      "|1     |0.0       |\n",
      "|0     |1.0       |\n",
      "|1     |1.0       |\n",
      "|1     |1.0       |\n",
      "|0     |1.0       |\n",
      "|1     |1.0       |\n",
      "|1     |1.0       |\n",
      "|1     |1.0       |\n",
      "|1     |1.0       |\n",
      "|1     |1.0       |\n",
      "+------+----------+\n",
      "only showing top 20 rows\n",
      "\n"
     ]
    }
   ],
   "source": [
    "results.select(['Status','prediction']).show(20,False)"
   ]
  },
  {
   "cell_type": "markdown",
   "id": "ace8893e-4fb3-4c60-b131-305b2302a042",
   "metadata": {},
   "source": [
    "**Confusion Matrix**"
   ]
  },
  {
   "cell_type": "code",
   "execution_count": 62,
   "id": "26a5adc4-cfe5-411e-9415-64bf1a323b65",
   "metadata": {},
   "outputs": [],
   "source": [
    "tp = results[(results.Status == 1) & (results.prediction == 1)].count()\n",
    "tn = results[(results.Status == 0) & (results.prediction == 0)].count()\n",
    "fp = results[(results.Status == 0) & (results.prediction == 1)].count()\n",
    "fn = results[(results.Status == 1) & (results.prediction == 0)].count()"
   ]
  },
  {
   "cell_type": "markdown",
   "id": "81b872f2-2aed-4c1a-a84a-af594cc4a85f",
   "metadata": {},
   "source": [
    "**Accuracy**"
   ]
  },
  {
   "cell_type": "markdown",
   "id": "beef5188-d781-49a1-a2d2-fa1806a49230",
   "metadata": {},
   "source": [
    "Accuracy is the most basic metric \n",
    "for evaluating any classifier; however, this is not the right indicator of \n",
    "the performance of the model due to dependency on the target class \n",
    "balance"
   ]
  },
  {
   "attachments": {
    "f8164334-be63-45a1-bb4d-ecfa0339774f.png": {
     "image/png": "[encoded data removed]"
    }
   },
   "cell_type": "markdown",
   "id": "a86cad8b-f953-4353-9af3-502b271c1065",
   "metadata": {},
   "source": [
    "![image.png](attachment:f8164334-be63-45a1-bb4d-ecfa0339774f.png)"
   ]
  },
  {
   "cell_type": "code",
   "execution_count": 64,
   "id": "7c761c78-a9e2-4bbc-a6e5-7b9035e971de",
   "metadata": {},
   "outputs": [
    {
     "name": "stdout",
     "output_type": "stream",
     "text": [
      "0.9391619661563255\n"
     ]
    }
   ],
   "source": [
    "accuracy=float((tp+tn) / (results.count()))\n",
    "print(accuracy)"
   ]
  },
  {
   "cell_type": "markdown",
   "id": "f8b9eeae-822a-4adf-956a-eedb9e9d7bc5",
   "metadata": {},
   "source": [
    "**Recall**"
   ]
  },
  {
   "cell_type": "markdown",
   "id": "79bb99ed-a08e-49f0-bd03-120bf4987030",
   "metadata": {},
   "source": [
    "Recall rate shows how much of the positive class cases we are able to \n",
    "predict correctly out of the total positive class observations"
   ]
  },
  {
   "attachments": {
    "dede0ade-cf15-4fc0-b44d-56d9ecb406bb.png": {
     "image/png": "[encoded data removed]"
    }
   },
   "cell_type": "markdown",
   "id": "993f1cd2-a366-4957-84eb-3f74b250220a",
   "metadata": {},
   "source": [
    "![image.png](attachment:dede0ade-cf15-4fc0-b44d-56d9ecb406bb.png)"
   ]
  },
  {
   "cell_type": "code",
   "execution_count": 65,
   "id": "1598fac5-4dd9-48fe-bdb5-f4fd16560323",
   "metadata": {},
   "outputs": [
    {
     "name": "stdout",
     "output_type": "stream",
     "text": [
      "0.9371245494593512\n"
     ]
    }
   ],
   "source": [
    "recall = float(tp)/(tp + fn)\n",
    "print(recall)"
   ]
  },
  {
   "cell_type": "markdown",
   "id": "98b7c982-e1a8-4106-bc1e-a44166f3b28f",
   "metadata": {},
   "source": [
    "**Precision**"
   ]
  },
  {
   "cell_type": "markdown",
   "id": "09f56a3d-54ea-4a7f-9924-fa51860e21b6",
   "metadata": {},
   "source": [
    "Precision rate talks about the number of true positives predicted \n",
    "correctly out of all the predicted positives observations:"
   ]
  },
  {
   "cell_type": "code",
   "execution_count": 67,
   "id": "d685d458-0c4e-44d2-a183-9e3e0ba5c989",
   "metadata": {},
   "outputs": [
    {
     "name": "stdout",
     "output_type": "stream",
     "text": [
      "0.9416498993963782\n"
     ]
    }
   ],
   "source": [
    "precision = float(tp) / (tp + fp)\n",
    "print(precision)"
   ]
  }
 ],
 "metadata": {
  "kernelspec": {
   "display_name": "Python 3 (ipykernel)",
   "language": "python",
   "name": "python3"
  },
  "language_info": {
   "codemirror_mode": {
    "name": "ipython",
    "version": 3
   },
   "file_extension": ".py",
   "mimetype": "text/x-python",
   "name": "python",
   "nbconvert_exporter": "python",
   "pygments_lexer": "ipython3",
   "version": "3.8.12"
  }
 },
 "nbformat": 4,
 "nbformat_minor": 5
}
