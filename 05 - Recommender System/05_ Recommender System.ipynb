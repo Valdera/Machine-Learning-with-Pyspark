{
 "cells": [
  {
   "cell_type": "markdown",
   "id": "4d8d6819-24b2-4871-9cb7-aaf33ed4529e",
   "metadata": {},
   "source": [
    "# Recommender System"
   ]
  },
  {
   "cell_type": "markdown",
   "id": "6a5bb692-8e96-4dce-9457-5470e5eaeb4c",
   "metadata": {},
   "source": [
    "## Step 1: Create the SparkSession Object"
   ]
  },
  {
   "cell_type": "markdown",
   "id": "839077e4-e539-4b1a-9057-a210418b4000",
   "metadata": {},
   "source": [
    "We start the Jupyter Notebook and import `SparkSession` and create a new \n",
    "`SparkSession` object to use Spark:"
   ]
  },
  {
   "cell_type": "code",
   "execution_count": 1,
   "id": "14502472-c166-42b2-a44d-16042b1b28de",
   "metadata": {},
   "outputs": [],
   "source": [
    "import findspark\n",
    "findspark.init()"
   ]
  },
  {
   "cell_type": "code",
   "execution_count": 2,
   "id": "44db1da7-88b6-49d6-839b-c5e3c8a3c42b",
   "metadata": {},
   "outputs": [],
   "source": [
    "from pyspark.sql import SparkSession\n",
    "\n",
    "spark=SparkSession.builder.appName('recom').getOrCreate()"
   ]
  },
  {
   "cell_type": "markdown",
   "id": "38a53b72-0431-484c-a333-1ffdb52958fb",
   "metadata": {},
   "source": [
    "## Step 2: Read the Dataset"
   ]
  },
  {
   "cell_type": "markdown",
   "id": "3107dd9b-334d-49c7-809b-bdaa8adf4ff7",
   "metadata": {},
   "source": [
    "We then load and read the dataset within Spark using a dataframe."
   ]
  },
  {
   "cell_type": "code",
   "execution_count": 3,
   "id": "8064df77-bcc0-4022-8dc4-4ee2934a8bcf",
   "metadata": {},
   "outputs": [],
   "source": [
    "df = spark.read.csv('movie_ratings_df.csv',inferSchema=True,header=True)"
   ]
  },
  {
   "cell_type": "markdown",
   "id": "83b95dec-acaf-4354-829b-2c78f1f01f8d",
   "metadata": {},
   "source": [
    "## Step 3: Exploratory Data Analysis"
   ]
  },
  {
   "cell_type": "markdown",
   "id": "e46f04a0-cc53-4201-8b1b-76e1bd86b2d4",
   "metadata": {},
   "source": [
    "In this section, we explore the dataset by viewing the dataset, validating \n",
    "the shape of the dataset, and getting a count of the number of movies rated \n",
    "and the number of movies that each user rated"
   ]
  },
  {
   "cell_type": "code",
   "execution_count": 4,
   "id": "87d2bc3a-0fa3-445c-9e7d-f122f4884e92",
   "metadata": {},
   "outputs": [
    {
     "name": "stdout",
     "output_type": "stream",
     "text": [
      "(100000, 3)\n"
     ]
    }
   ],
   "source": [
    "print((df.count(), len(df.columns)))"
   ]
  },
  {
   "cell_type": "code",
   "execution_count": 5,
   "id": "f3cf76a3-4339-4572-befe-7da6b2c121dc",
   "metadata": {},
   "outputs": [
    {
     "name": "stdout",
     "output_type": "stream",
     "text": [
      "root\n",
      " |-- userId: integer (nullable = true)\n",
      " |-- title: string (nullable = true)\n",
      " |-- rating: integer (nullable = true)\n",
      "\n"
     ]
    }
   ],
   "source": [
    "df.printSchema()"
   ]
  },
  {
   "cell_type": "markdown",
   "id": "5c787ef2-c553-4d40-bae7-5a50bb60baec",
   "metadata": {},
   "source": [
    "There is a total of three columns out of which two are numerical and \n",
    "the title is categorical. The critical thing with using PySpark for building \n",
    "RS is that we need to have user_id and item_id in numerical form. Hence, \n",
    "we will convert the movie title to numerical values later"
   ]
  },
  {
   "cell_type": "code",
   "execution_count": 9,
   "id": "46fd5fe4-b932-49e4-983f-2cbf9b05164a",
   "metadata": {},
   "outputs": [
    {
     "name": "stdout",
     "output_type": "stream",
     "text": [
      "+------+-------------------------------------------+------+\n",
      "|userId|title                                      |rating|\n",
      "+------+-------------------------------------------+------+\n",
      "|102   |Boot, Das (1981)                           |1     |\n",
      "|222   |My Life as a Dog (Mitt liv som hund) (1985)|2     |\n",
      "|716   |His Girl Friday (1940)                     |5     |\n",
      "|426   |Mr. Smith Goes to Washington (1939)        |4     |\n",
      "|210   |I.Q. (1994)                                |3     |\n",
      "|659   |Paris, Texas (1984)                        |4     |\n",
      "|629   |Game, The (1997)                           |4     |\n",
      "|747   |Star Trek: First Contact (1996)            |2     |\n",
      "|156   |Paths of Glory (1957)                      |5     |\n",
      "|151   |Ed Wood (1994)                             |3     |\n",
      "+------+-------------------------------------------+------+\n",
      "only showing top 10 rows\n",
      "\n"
     ]
    }
   ],
   "source": [
    "from pyspark.sql.functions import rand \n",
    "\n",
    "df.orderBy(rand()).show(10,False)"
   ]
  },
  {
   "cell_type": "code",
   "execution_count": 10,
   "id": "0da4021d-a747-42f9-bb24-743991fb49cc",
   "metadata": {},
   "outputs": [
    {
     "name": "stdout",
     "output_type": "stream",
     "text": [
      "+------+-----+\n",
      "|userId|count|\n",
      "+------+-----+\n",
      "|405   |737  |\n",
      "|655   |685  |\n",
      "|13    |636  |\n",
      "|450   |540  |\n",
      "|276   |518  |\n",
      "|416   |493  |\n",
      "|537   |490  |\n",
      "|303   |484  |\n",
      "|234   |480  |\n",
      "|393   |448  |\n",
      "+------+-----+\n",
      "only showing top 10 rows\n",
      "\n"
     ]
    }
   ],
   "source": [
    "df.groupBy('userId').count().orderBy('count',ascending=False).show(10,False) "
   ]
  },
  {
   "cell_type": "code",
   "execution_count": 11,
   "id": "f8fa978b-8ece-4fc6-a9bc-6dee364cb996",
   "metadata": {},
   "outputs": [
    {
     "name": "stdout",
     "output_type": "stream",
     "text": [
      "+------+-----+\n",
      "|userId|count|\n",
      "+------+-----+\n",
      "|732   |20   |\n",
      "|636   |20   |\n",
      "|631   |20   |\n",
      "|93    |20   |\n",
      "|685   |20   |\n",
      "|572   |20   |\n",
      "|596   |20   |\n",
      "|926   |20   |\n",
      "|34    |20   |\n",
      "|300   |20   |\n",
      "+------+-----+\n",
      "only showing top 10 rows\n",
      "\n"
     ]
    }
   ],
   "source": [
    "df.groupBy('userId').count().orderBy('count',ascending=True).show(10,False)"
   ]
  },
  {
   "cell_type": "markdown",
   "id": "a18c3f9d-b421-4dd7-a020-a92ba8e8c1dc",
   "metadata": {},
   "source": [
    "The user with the highest number of records has rated 737 movies, and \n",
    "each user has rated at least 20 movies."
   ]
  },
  {
   "cell_type": "code",
   "execution_count": 12,
   "id": "d80e2d21-f591-4d16-af3e-4829477eba33",
   "metadata": {},
   "outputs": [
    {
     "name": "stdout",
     "output_type": "stream",
     "text": [
      "+-----------------------------+-----+\n",
      "|title                        |count|\n",
      "+-----------------------------+-----+\n",
      "|Star Wars (1977)             |583  |\n",
      "|Contact (1997)               |509  |\n",
      "|Fargo (1996)                 |508  |\n",
      "|Return of the Jedi (1983)    |507  |\n",
      "|Liar Liar (1997)             |485  |\n",
      "|English Patient, The (1996)  |481  |\n",
      "|Scream (1996)                |478  |\n",
      "|Toy Story (1995)             |452  |\n",
      "|Air Force One (1997)         |431  |\n",
      "|Independence Day (ID4) (1996)|429  |\n",
      "+-----------------------------+-----+\n",
      "only showing top 10 rows\n",
      "\n"
     ]
    }
   ],
   "source": [
    "df.groupBy('title').count().orderBy('count',ascending=False).show(10,False)"
   ]
  },
  {
   "cell_type": "markdown",
   "id": "7d9938be-def5-496e-9c1c-d644d6642d39",
   "metadata": {},
   "source": [
    "The movie with highest number of ratings is Star Wars (1977) and has \n",
    "been rated 583 times, and each movie has been rated by at least by 1 user"
   ]
  },
  {
   "cell_type": "markdown",
   "id": "276f2a6e-58d2-4a91-9961-36341e54a476",
   "metadata": {},
   "source": [
    "## Step 4: Feature Engineering"
   ]
  },
  {
   "cell_type": "markdown",
   "id": "8735b30d-5930-4fc1-828b-63808e1b3592",
   "metadata": {},
   "source": [
    "We now convert the movie title column from categorical to numerical \n",
    "values using `StringIndexer`"
   ]
  },
  {
   "cell_type": "code",
   "execution_count": 15,
   "id": "14e951fc-b08d-496a-85d5-34144e8fea69",
   "metadata": {},
   "outputs": [],
   "source": [
    "from pyspark.sql.functions import *\n",
    "from pyspark.ml.feature import StringIndexer, IndexToString"
   ]
  },
  {
   "cell_type": "code",
   "execution_count": 17,
   "id": "4675394a-0994-42c4-b381-ce6b4e656199",
   "metadata": {},
   "outputs": [],
   "source": [
    "stringIndexer = StringIndexer(inputCol=\"title\", outputCol=\"title_new\")\n",
    "\n",
    "model = stringIndexer.fit(df)\n",
    "indexed = model.transform(df)"
   ]
  },
  {
   "cell_type": "code",
   "execution_count": 19,
   "id": "9e630f84-47e9-46f0-be83-39d221cafe1d",
   "metadata": {},
   "outputs": [
    {
     "name": "stdout",
     "output_type": "stream",
     "text": [
      "+------+--------------------+------+---------+\n",
      "|userId|               title|rating|title_new|\n",
      "+------+--------------------+------+---------+\n",
      "|   183|101 Dalmatians (1...|     1|    308.0|\n",
      "|   487|Farewell My Concu...|     5|    631.0|\n",
      "|   852|    Boot, Das (1981)|     5|    116.0|\n",
      "|   848|      Aladdin (1992)|     5|     95.0|\n",
      "|   588|Angels in the Out...|     3|    709.0|\n",
      "|   210|One Flew Over the...|     5|     57.0|\n",
      "|   650|Miracle on 34th S...|     3|    330.0|\n",
      "|   367|      Contact (1997)|     4|      1.0|\n",
      "|   655|  Bitter Moon (1992)|     3|   1114.0|\n",
      "|   207|Apocalypse Now (1...|     3|     90.0|\n",
      "+------+--------------------+------+---------+\n",
      "only showing top 10 rows\n",
      "\n"
     ]
    }
   ],
   "source": [
    "indexed.orderBy(rand()).show(10)"
   ]
  },
  {
   "cell_type": "code",
   "execution_count": 20,
   "id": "55611f83-864d-40ae-9ca6-7a4ce050fb47",
   "metadata": {},
   "outputs": [
    {
     "name": "stdout",
     "output_type": "stream",
     "text": [
      "+---------+-----+\n",
      "|title_new|count|\n",
      "+---------+-----+\n",
      "|0.0      |583  |\n",
      "|1.0      |509  |\n",
      "|2.0      |508  |\n",
      "|3.0      |507  |\n",
      "|4.0      |485  |\n",
      "|5.0      |481  |\n",
      "|6.0      |478  |\n",
      "|7.0      |452  |\n",
      "|8.0      |431  |\n",
      "|9.0      |429  |\n",
      "+---------+-----+\n",
      "only showing top 10 rows\n",
      "\n"
     ]
    }
   ],
   "source": [
    "indexed.groupBy('title_new').count().orderBy('count', ascending=False).show(10,False)"
   ]
  },
  {
   "cell_type": "markdown",
   "id": "fa21172e-ad79-4fc8-8784-2984401949ef",
   "metadata": {},
   "source": [
    "## Step 5: Splitting the Dataset"
   ]
  },
  {
   "cell_type": "markdown",
   "id": "cfea6fb5-b12d-4272-b3ea-ca92c32be190",
   "metadata": {},
   "source": [
    "Now that we have prepared the data for building the recommender model, \n",
    "we can split the dataset into training and test sets. We split it into a 75 to 25 \n",
    "ratio to train the model and test its accuracy."
   ]
  },
  {
   "cell_type": "code",
   "execution_count": 21,
   "id": "6754b9cb-cb1e-4f07-b756-3284ac2cf9c3",
   "metadata": {},
   "outputs": [],
   "source": [
    "train,test=indexed.randomSplit([0.75,0.25])"
   ]
  },
  {
   "cell_type": "code",
   "execution_count": 22,
   "id": "59b5cfa9-487e-46b8-8817-be71c6bf2c99",
   "metadata": {},
   "outputs": [
    {
     "data": {
      "text/plain": [
       "75178"
      ]
     },
     "execution_count": 22,
     "metadata": {},
     "output_type": "execute_result"
    }
   ],
   "source": [
    "train.count()"
   ]
  },
  {
   "cell_type": "code",
   "execution_count": 23,
   "id": "1e0b41b4-fbfe-4e41-96e6-e68c9b40bace",
   "metadata": {},
   "outputs": [
    {
     "data": {
      "text/plain": [
       "24822"
      ]
     },
     "execution_count": 23,
     "metadata": {},
     "output_type": "execute_result"
    }
   ],
   "source": [
    "test.count()"
   ]
  },
  {
   "cell_type": "markdown",
   "id": "dea64baa-d576-47bf-b64b-3de9a51de56c",
   "metadata": {},
   "source": [
    "## Step 6: Build and Train Recommender Model"
   ]
  },
  {
   "cell_type": "markdown",
   "id": "ecf4e16c-eed7-4c08-b4cf-3382a435c3fd",
   "metadata": {},
   "source": [
    "We import the ALS function from the PySpark ml library and build the \n",
    "model on the training dataset. There are multiple hyperparameters \n",
    "that can be tuned to improve the performance of the model. Two of the \n",
    "important ones are nonnegative =‘True’ doesn’t create negative ratings in \n",
    "recommendations and coldStartStrategy=‘drop’ to prevent any NaN ratings \n",
    "predictions."
   ]
  },
  {
   "cell_type": "code",
   "execution_count": 25,
   "id": "12f1e5b2-94ea-4469-afe3-62e934464215",
   "metadata": {},
   "outputs": [],
   "source": [
    "from pyspark.ml.recommendation import ALS\n",
    "\n",
    "rec=ALS(maxIter=10,\n",
    "        regParam=0.01,\n",
    "        userCol='userId',\n",
    "        itemCol='title_new', \n",
    "        ratingCol='rating', \n",
    "        nonnegative=True, \n",
    "        coldStartStrategy=\"drop\")"
   ]
  },
  {
   "cell_type": "code",
   "execution_count": 26,
   "id": "a2c90470-6896-4f64-9b2a-523541c9b0a0",
   "metadata": {},
   "outputs": [],
   "source": [
    "rec_model=rec.fit(train)"
   ]
  },
  {
   "cell_type": "markdown",
   "id": "f420c049-6d8e-4e4b-bd0c-c408af558f00",
   "metadata": {},
   "source": [
    "## Step 7: Predictions and Evaluation on Test Data"
   ]
  },
  {
   "cell_type": "markdown",
   "id": "654ea7d3-3b0b-418f-a4a5-66ada4bdd5e2",
   "metadata": {},
   "source": [
    "The final part of the entire exercise is to check the performance of the \n",
    "model on unseen or test data. We use the transform function to make \n",
    "predictions on the test data and RegressionEvaluate to check the RMSE \n",
    "value of the model on test data"
   ]
  },
  {
   "cell_type": "code",
   "execution_count": 27,
   "id": "37918b34-a730-4ce4-9106-88675af8ad9b",
   "metadata": {},
   "outputs": [],
   "source": [
    "predicted_ratings = rec_model.transform(test)"
   ]
  },
  {
   "cell_type": "code",
   "execution_count": 28,
   "id": "930ba7e7-4b61-4f1f-9f30-4c3a8979558b",
   "metadata": {},
   "outputs": [
    {
     "name": "stdout",
     "output_type": "stream",
     "text": [
      "root\n",
      " |-- userId: integer (nullable = true)\n",
      " |-- title: string (nullable = true)\n",
      " |-- rating: integer (nullable = true)\n",
      " |-- title_new: double (nullable = false)\n",
      " |-- prediction: float (nullable = false)\n",
      "\n"
     ]
    }
   ],
   "source": [
    "predicted_ratings.printSchema()"
   ]
  },
  {
   "cell_type": "code",
   "execution_count": 30,
   "id": "fe330e3f-196d-4d7d-bb0b-6e04431ac6c3",
   "metadata": {},
   "outputs": [
    {
     "name": "stdout",
     "output_type": "stream",
     "text": [
      "+------+--------------------+------+---------+----------+\n",
      "|userId|               title|rating|title_new|prediction|\n",
      "+------+--------------------+------+---------+----------+\n",
      "|   493|    Rock, The (1996)|     5|     17.0|  4.167579|\n",
      "|   344|My Best Friend's ...|     4|    157.0| 2.7621906|\n",
      "|   124|Die Hard: With a ...|     4|    201.0| 3.4011817|\n",
      "|   621|Alice in Wonderla...|     4|    409.0| 3.3459125|\n",
      "|   158|Quick and the Dea...|     4|    619.0| 3.7941067|\n",
      "|   751|Snow White and th...|     4|    158.0| 4.2226357|\n",
      "|   381|Unbearable Lightn...|     5|    365.0| 3.7957087|\n",
      "|   276|   Braveheart (1995)|     5|     37.0|  4.352621|\n",
      "|   254|Swiss Family Robi...|     4|    722.0| 2.9655714|\n",
      "|   553|E.T. the Extra-Te...|     3|     33.0|  4.063393|\n",
      "+------+--------------------+------+---------+----------+\n",
      "only showing top 10 rows\n",
      "\n"
     ]
    }
   ],
   "source": [
    "predicted_ratings.orderBy(rand()).show(10)"
   ]
  },
  {
   "cell_type": "code",
   "execution_count": 33,
   "id": "8bf5172c-6c50-422b-893b-1bfe949d0243",
   "metadata": {},
   "outputs": [
    {
     "name": "stdout",
     "output_type": "stream",
     "text": [
      "1.0199921693241498\n"
     ]
    }
   ],
   "source": [
    "from pyspark.ml.evaluation import RegressionEvaluator\n",
    "\n",
    "evaluator = RegressionEvaluator(metricName='rmse', predictionCol='prediction',labelCol='rating')\n",
    "rmse = evaluator.evaluate(predicted_ratings)\n",
    "print(rmse)"
   ]
  },
  {
   "cell_type": "markdown",
   "id": "e3f6dc0d-c788-496a-9413-73d03c86115d",
   "metadata": {},
   "source": [
    "The RMSE is not very high; we are making an error of one point in the \n",
    "actual rating and predicted rating. This can be improved further by tuning \n",
    "the model parameters and using the hybrid approach"
   ]
  },
  {
   "cell_type": "markdown",
   "id": "a2888dfe-ba0b-497f-9663-c657fb9b50b8",
   "metadata": {},
   "source": [
    "## Step 8: Recommend Top Movies That Active User Might Like"
   ]
  },
  {
   "cell_type": "markdown",
   "id": "7cd80c50-2db1-446d-96af-57498f2a5984",
   "metadata": {},
   "source": [
    "After checking the performance of the model and tuning the hyperparameters, \n",
    "we can move ahead to recommend top movies to users that they have not \n",
    "seen and might like. The first step is to create a list of unique movies in the \n",
    "dataframe"
   ]
  },
  {
   "cell_type": "code",
   "execution_count": 35,
   "id": "d6b37edd-6dbc-45f0-8de4-b9b3134a9af9",
   "metadata": {},
   "outputs": [
    {
     "data": {
      "text/plain": [
       "1664"
      ]
     },
     "execution_count": 35,
     "metadata": {},
     "output_type": "execute_result"
    }
   ],
   "source": [
    "unique_movies = indexed.select('title_new').distinct()\n",
    "unique_movies.count()"
   ]
  },
  {
   "cell_type": "code",
   "execution_count": 37,
   "id": "8cefe2af-a2a8-4cb0-b8ee-e617217ebf57",
   "metadata": {},
   "outputs": [],
   "source": [
    "a = unique_movies.alias('a')"
   ]
  },
  {
   "cell_type": "code",
   "execution_count": 38,
   "id": "47b2891d-5a2b-4179-84b5-bfb66ace5616",
   "metadata": {},
   "outputs": [
    {
     "data": {
      "text/plain": [
       "287"
      ]
     },
     "execution_count": 38,
     "metadata": {},
     "output_type": "execute_result"
    }
   ],
   "source": [
    "user_id = 85\n",
    "watched_movies = indexed.filter(indexed['userId'] == user_id).select('title_new').distinct()\n",
    "watched_movies.count()"
   ]
  },
  {
   "cell_type": "markdown",
   "id": "193d810a-08bc-4ab1-86fc-11b3bfaf3ffe",
   "metadata": {},
   "source": [
    "So, there are total of 287 unique movies out of 1,664 movies that this \n",
    "active user has already rated. So, we would want to recommend movies \n",
    "from the remaining 1,377 items. We now combine both the tables to find \n",
    "the movies that we can recommend by filtering null values from the joined \n",
    "table"
   ]
  },
  {
   "cell_type": "code",
   "execution_count": 39,
   "id": "f050e82c-58ca-4391-a89d-53e4522baffd",
   "metadata": {},
   "outputs": [
    {
     "name": "stdout",
     "output_type": "stream",
     "text": [
      "+---------+---------+\n",
      "|title_new|title_new|\n",
      "+---------+---------+\n",
      "|305.0    |305.0    |\n",
      "|596.0    |null     |\n",
      "|299.0    |null     |\n",
      "|769.0    |null     |\n",
      "|692.0    |null     |\n",
      "|934.0    |null     |\n",
      "|1051.0   |null     |\n",
      "|496.0    |null     |\n",
      "|558.0    |558.0    |\n",
      "|170.0    |null     |\n",
      "+---------+---------+\n",
      "only showing top 10 rows\n",
      "\n"
     ]
    }
   ],
   "source": [
    "b = watched_movies.alias('b')\n",
    "total_movies = a.join(b, a.title_new == b.title_new, how='left')\n",
    "total_movies.show(10,False)"
   ]
  },
  {
   "cell_type": "code",
   "execution_count": 41,
   "id": "2818dcae-ef60-45c8-bad5-e01c80e8eb47",
   "metadata": {},
   "outputs": [
    {
     "data": {
      "text/plain": [
       "1377"
      ]
     },
     "execution_count": 41,
     "metadata": {},
     "output_type": "execute_result"
    }
   ],
   "source": [
    "remaining_movies = total_movies.where(col(\"b.title_new\").isNull()).select(a.title_new).distinct()\n",
    "remaining_movies.count()"
   ]
  },
  {
   "cell_type": "code",
   "execution_count": 43,
   "id": "d4c0eaf8-5151-46ed-9df9-24a9b827e0ba",
   "metadata": {},
   "outputs": [
    {
     "name": "stdout",
     "output_type": "stream",
     "text": [
      "+---------+------+\n",
      "|title_new|userId|\n",
      "+---------+------+\n",
      "|596.0    |85    |\n",
      "|299.0    |85    |\n",
      "|769.0    |85    |\n",
      "|692.0    |85    |\n",
      "|934.0    |85    |\n",
      "|1051.0   |85    |\n",
      "|496.0    |85    |\n",
      "|170.0    |85    |\n",
      "|184.0    |85    |\n",
      "|576.0    |85    |\n",
      "+---------+------+\n",
      "only showing top 10 rows\n",
      "\n"
     ]
    }
   ],
   "source": [
    "remaining_movies=remaining_movies.withColumn(\"userId\", lit(int(user_id)))\n",
    "remaining_movies.show(10,False)"
   ]
  },
  {
   "cell_type": "code",
   "execution_count": 44,
   "id": "09c91199-a37f-40ea-a727-c4b894724655",
   "metadata": {},
   "outputs": [],
   "source": [
    "recommendations = rec_model.transform(remaining_movies).orderBy('prediction',ascending=False)"
   ]
  },
  {
   "cell_type": "code",
   "execution_count": 45,
   "id": "f5bb43bc-b2e6-4cf6-a152-07f6a82ba1fa",
   "metadata": {},
   "outputs": [
    {
     "name": "stdout",
     "output_type": "stream",
     "text": [
      "+---------+------+----------+\n",
      "|title_new|userId|prediction|\n",
      "+---------+------+----------+\n",
      "|1347.0   |85    |5.2065744 |\n",
      "|1411.0   |85    |5.149152  |\n",
      "|1277.0   |85    |4.931091  |\n",
      "|1370.0   |85    |4.863292  |\n",
      "|1289.0   |85    |4.7471066 |\n",
      "+---------+------+----------+\n",
      "only showing top 5 rows\n",
      "\n"
     ]
    }
   ],
   "source": [
    "recommendations.show(5,False)"
   ]
  },
  {
   "cell_type": "code",
   "execution_count": 47,
   "id": "87f6780c-e8f4-4d21-a353-43047e42d917",
   "metadata": {},
   "outputs": [],
   "source": [
    "movie_title = IndexToString(inputCol=\"title_new\", outputCol=\"title\",labels=model.labels)\n",
    "final_recommendations=movie_title.transform(recommendations)"
   ]
  },
  {
   "cell_type": "code",
   "execution_count": 48,
   "id": "41876dcd-7eb5-4aff-9e2e-e7e64193b2ed",
   "metadata": {},
   "outputs": [
    {
     "name": "stdout",
     "output_type": "stream",
     "text": [
      "+---------+------+----------+--------------------------------------+\n",
      "|title_new|userId|prediction|title                                 |\n",
      "+---------+------+----------+--------------------------------------+\n",
      "|1347.0   |85    |5.2065744 |Angel Baby (1995)                     |\n",
      "|1411.0   |85    |5.149152  |Boys, Les (1997)                      |\n",
      "|1277.0   |85    |4.931091  |Mina Tannenbaum (1994)                |\n",
      "|1370.0   |85    |4.863292  |Harlem (1993)                         |\n",
      "|1289.0   |85    |4.7471066 |World of Apu, The (Apur Sansar) (1959)|\n",
      "|302.0    |85    |4.6862745 |Close Shave, A (1995)                 |\n",
      "|1075.0   |85    |4.666614  |Man in the Iron Mask, The (1998)      |\n",
      "|1518.0   |85    |4.59214   |Some Mother's Son (1996)              |\n",
      "|1410.0   |85    |4.5367236 |Bitter Sugar (Azucar Amargo) (1996)   |\n",
      "|1470.0   |85    |4.4922724 |Butcher Boy, The (1998)               |\n",
      "+---------+------+----------+--------------------------------------+\n",
      "only showing top 10 rows\n",
      "\n"
     ]
    }
   ],
   "source": [
    "final_recommendations.show(10,False)"
   ]
  }
 ],
 "metadata": {
  "kernelspec": {
   "display_name": "Python 3 (ipykernel)",
   "language": "python",
   "name": "python3"
  },
  "language_info": {
   "codemirror_mode": {
    "name": "ipython",
    "version": 3
   },
   "file_extension": ".py",
   "mimetype": "text/x-python",
   "name": "python",
   "nbconvert_exporter": "python",
   "pygments_lexer": "ipython3",
   "version": "3.8.12"
  }
 },
 "nbformat": 4,
 "nbformat_minor": 5
}
