{
 "cells": [
  {
   "cell_type": "markdown",
   "id": "abe3fa98-67fa-48fb-9b19-581304878b61",
   "metadata": {},
   "source": [
    "# Data Processing"
   ]
  },
  {
   "cell_type": "markdown",
   "id": "56691dd3-5302-4f66-8bc4-4527175bf141",
   "metadata": {},
   "source": [
    "## 1 - Load and Read Data"
   ]
  },
  {
   "cell_type": "code",
   "execution_count": 40,
   "id": "7d143387-43af-4a6f-9521-796ea99bed0d",
   "metadata": {},
   "outputs": [],
   "source": [
    "import findspark\n",
    "findspark.init()"
   ]
  },
  {
   "cell_type": "code",
   "execution_count": 41,
   "id": "59da4b09-e23e-4dde-a10e-3dcd8cda8641",
   "metadata": {},
   "outputs": [],
   "source": [
    "from pyspark.sql import SparkSession\n",
    "spark = SparkSession.builder.appName('data_processing').getOrCreate()\n",
    "df = spark.read.csv('sample_data.csv', inferSchema=True, header=True)"
   ]
  },
  {
   "cell_type": "code",
   "execution_count": 3,
   "id": "c0861777-2efc-4689-9994-2aa48e034f9f",
   "metadata": {},
   "outputs": [
    {
     "data": {
      "text/plain": [
       "['ratings', 'age', 'experience', 'family', 'mobile']"
      ]
     },
     "execution_count": 3,
     "metadata": {},
     "output_type": "execute_result"
    }
   ],
   "source": [
    "df.columns"
   ]
  },
  {
   "cell_type": "code",
   "execution_count": 4,
   "id": "b26b848a-9e31-405e-96be-a6fe9116a727",
   "metadata": {},
   "outputs": [
    {
     "data": {
      "text/plain": [
       "5"
      ]
     },
     "execution_count": 4,
     "metadata": {},
     "output_type": "execute_result"
    }
   ],
   "source": [
    "len(df.columns)"
   ]
  },
  {
   "cell_type": "markdown",
   "id": "ca71cc31-4858-4f1a-b171-3e33aa40866f",
   "metadata": {},
   "source": [
    "`printSchema` method of spark. It shows the datatypes of the columns along \n",
    "with the column names."
   ]
  },
  {
   "cell_type": "code",
   "execution_count": 5,
   "id": "ae35abb1-783b-4b92-be54-b01b2b1cf1a8",
   "metadata": {},
   "outputs": [
    {
     "name": "stdout",
     "output_type": "stream",
     "text": [
      "root\n",
      " |-- ratings: integer (nullable = true)\n",
      " |-- age: integer (nullable = true)\n",
      " |-- experience: double (nullable = true)\n",
      " |-- family: integer (nullable = true)\n",
      " |-- mobile: string (nullable = true)\n",
      "\n"
     ]
    }
   ],
   "source": [
    "df.printSchema()"
   ]
  },
  {
   "cell_type": "markdown",
   "id": "441bbec8-221c-488c-bafd-0870a9bf5b41",
   "metadata": {},
   "source": [
    "The nullable property indicates if the corresponding column can \n",
    "assume null values (true) or not (false). We can also change the datatype of \n",
    "the columns as per the requirement"
   ]
  },
  {
   "cell_type": "markdown",
   "id": "2d4b6bcb-ce7d-4b03-ae95-309979da5d94",
   "metadata": {},
   "source": [
    " We can use the Spark `show` method to view the top rows of the \n",
    "dataframe."
   ]
  },
  {
   "cell_type": "code",
   "execution_count": 6,
   "id": "401ace0c-0e61-4180-958f-46de33225350",
   "metadata": {},
   "outputs": [
    {
     "name": "stdout",
     "output_type": "stream",
     "text": [
      "+-------+---+----------+------+-------+\n",
      "|ratings|age|experience|family| mobile|\n",
      "+-------+---+----------+------+-------+\n",
      "|      3| 32|       9.0|     3|   Vivo|\n",
      "|      3| 27|      13.0|     3|  Apple|\n",
      "|      4| 22|       2.5|     0|Samsung|\n",
      "+-------+---+----------+------+-------+\n",
      "only showing top 3 rows\n",
      "\n"
     ]
    }
   ],
   "source": [
    "df.show(3)"
   ]
  },
  {
   "cell_type": "markdown",
   "id": "afc5e24f-99a4-47b7-888c-aa0794679e8e",
   "metadata": {},
   "source": [
    "In order to view only certain \n",
    "columns, we have to use the `select` method. Let us view only two columns \n",
    "(age and mobile)"
   ]
  },
  {
   "cell_type": "code",
   "execution_count": 7,
   "id": "ecc18ef5-706e-4e77-b3d7-14c8c0ed086e",
   "metadata": {},
   "outputs": [
    {
     "name": "stdout",
     "output_type": "stream",
     "text": [
      "+---+-------+\n",
      "|age| mobile|\n",
      "+---+-------+\n",
      "| 32|   Vivo|\n",
      "| 27|  Apple|\n",
      "| 22|Samsung|\n",
      "| 37|  Apple|\n",
      "| 27|     MI|\n",
      "+---+-------+\n",
      "only showing top 5 rows\n",
      "\n"
     ]
    }
   ],
   "source": [
    "df.select('age', 'mobile').show(5)"
   ]
  },
  {
   "cell_type": "markdown",
   "id": "25ac99e1-a369-4eba-a7b1-1d826308bdf2",
   "metadata": {},
   "source": [
    "The next function to be used is `describe` for analyzing the dataframe. It \n",
    "returns the statistical measures for each column of the dataframe"
   ]
  },
  {
   "cell_type": "code",
   "execution_count": 8,
   "id": "da2ed8cb-48a8-427e-ab03-df69e9f214a4",
   "metadata": {},
   "outputs": [
    {
     "name": "stdout",
     "output_type": "stream",
     "text": [
      "+-------+------------------+------------------+------------------+------------------+------+\n",
      "|summary|           ratings|               age|        experience|            family|mobile|\n",
      "+-------+------------------+------------------+------------------+------------------+------+\n",
      "|  count|                33|                33|                33|                33|    33|\n",
      "|   mean|3.5757575757575757|30.484848484848484|10.303030303030303|1.8181818181818181|  null|\n",
      "| stddev|1.1188806636071336|  6.18527087180309| 6.770731351213326|1.8448330794164254|  null|\n",
      "|    min|                 1|                22|               2.5|                 0| Apple|\n",
      "|    max|                 5|                42|              23.0|                 5|  Vivo|\n",
      "+-------+------------------+------------------+------------------+------------------+------+\n",
      "\n"
     ]
    }
   ],
   "source": [
    "df.describe().show()"
   ]
  },
  {
   "cell_type": "markdown",
   "id": "3e529932-bce9-4c25-bbe3-3c453a72167a",
   "metadata": {},
   "source": [
    "## 2 - Adding a New Column\n"
   ]
  },
  {
   "cell_type": "markdown",
   "id": "28af6c00-8980-4596-9d42-aea9883381b7",
   "metadata": {},
   "source": [
    "We can add a new column in the dataframe using the `withColumn` function \n",
    "of spark"
   ]
  },
  {
   "cell_type": "code",
   "execution_count": 9,
   "id": "7e8e7203-c902-4c45-8e85-717574d42324",
   "metadata": {},
   "outputs": [],
   "source": [
    "df = df.withColumn(\"age_after_10_yrs\", (df[\"age\"] + 10))"
   ]
  },
  {
   "cell_type": "markdown",
   "id": "5b2a187e-3727-422d-bf67-f59cbfac8726",
   "metadata": {},
   "source": [
    "To change the datatype of the age column from integer to double, \n",
    "we can make use of the `cast` method in Spark. We need to import the \n",
    "`DoubleType` from `pyspark.types`"
   ]
  },
  {
   "cell_type": "code",
   "execution_count": 10,
   "id": "ce68fc1a-558d-482f-8704-c9af8bc71e82",
   "metadata": {},
   "outputs": [
    {
     "name": "stdout",
     "output_type": "stream",
     "text": [
      "+-------+---+----------+------+-------+----------------+----------+\n",
      "|ratings|age|experience|family|mobile |age_after_10_yrs|age_double|\n",
      "+-------+---+----------+------+-------+----------------+----------+\n",
      "|3      |32 |9.0       |3     |Vivo   |42              |32.0      |\n",
      "|3      |27 |13.0      |3     |Apple  |37              |27.0      |\n",
      "|4      |22 |2.5       |0     |Samsung|32              |22.0      |\n",
      "|4      |37 |16.5      |4     |Apple  |47              |37.0      |\n",
      "|5      |27 |9.0       |1     |MI     |37              |27.0      |\n",
      "|4      |27 |9.0       |0     |Oppo   |37              |27.0      |\n",
      "|5      |37 |23.0      |5     |Vivo   |47              |37.0      |\n",
      "|5      |37 |23.0      |5     |Samsung|47              |37.0      |\n",
      "|3      |22 |2.5       |0     |Apple  |32              |22.0      |\n",
      "|3      |27 |6.0       |0     |MI     |37              |27.0      |\n",
      "+-------+---+----------+------+-------+----------------+----------+\n",
      "only showing top 10 rows\n",
      "\n"
     ]
    }
   ],
   "source": [
    "from pyspark.sql.types import StringType, DoubleType\n",
    "\n",
    "df.withColumn(\"age_double\", df['age'].cast(DoubleType())).show(10, False)"
   ]
  },
  {
   "cell_type": "markdown",
   "id": "17e0f34d-4c60-4cb0-9ff8-c3f80ae7c1ac",
   "metadata": {},
   "source": [
    "## 3- Filtering Data"
   ]
  },
  {
   "cell_type": "markdown",
   "id": "f9f5db38-d19f-43eb-86e9-44bc890db030",
   "metadata": {},
   "source": [
    "Filtering records based on conditions is a common requirement when \n",
    "dealing with data. This helps in cleaning the data and keeping only \n",
    "relevant records. Filtering in PySpark is pretty straight-forward and can be \n",
    "done using the `filter` function"
   ]
  },
  {
   "cell_type": "markdown",
   "id": "e3bea343-4fd0-4669-881b-5d8670bc6abe",
   "metadata": {},
   "source": [
    "**Condition 1**"
   ]
  },
  {
   "cell_type": "markdown",
   "id": "763f9ea1-fd7a-4e0d-8e31-c8e90da3e876",
   "metadata": {},
   "source": [
    "This is the most basic type of filtering based on only one column of a \n",
    "dataframe. Let us say we want to fetch the records for only ‘Vivo’ mobile:"
   ]
  },
  {
   "cell_type": "code",
   "execution_count": 11,
   "id": "a2660f75-83fc-49de-9c75-aee1d226fd0d",
   "metadata": {},
   "outputs": [
    {
     "name": "stdout",
     "output_type": "stream",
     "text": [
      "+-------+---+----------+------+------+----------------+\n",
      "|ratings|age|experience|family|mobile|age_after_10_yrs|\n",
      "+-------+---+----------+------+------+----------------+\n",
      "|      3| 32|       9.0|     3|  Vivo|              42|\n",
      "|      5| 37|      23.0|     5|  Vivo|              47|\n",
      "|      4| 37|       6.0|     0|  Vivo|              47|\n",
      "|      5| 37|      13.0|     1|  Vivo|              47|\n",
      "|      4| 37|       6.0|     0|  Vivo|              47|\n",
      "+-------+---+----------+------+------+----------------+\n",
      "\n"
     ]
    }
   ],
   "source": [
    "df.filter(df['mobile'] == 'Vivo').show()"
   ]
  },
  {
   "cell_type": "code",
   "execution_count": 12,
   "id": "90694e60-025c-49d0-9c8b-27590188d6b3",
   "metadata": {},
   "outputs": [
    {
     "name": "stdout",
     "output_type": "stream",
     "text": [
      "+---+-------+------+\n",
      "|age|ratings|mobile|\n",
      "+---+-------+------+\n",
      "| 32|      3|  Vivo|\n",
      "| 37|      5|  Vivo|\n",
      "| 37|      4|  Vivo|\n",
      "| 37|      5|  Vivo|\n",
      "| 37|      4|  Vivo|\n",
      "+---+-------+------+\n",
      "\n"
     ]
    }
   ],
   "source": [
    "df.filter(df['mobile'] == 'Vivo').select('age', 'ratings', 'mobile').show()"
   ]
  },
  {
   "cell_type": "markdown",
   "id": "ec35492d-9c13-4a75-bfe9-8f31606b2190",
   "metadata": {},
   "source": [
    "**Condition 2**"
   ]
  },
  {
   "cell_type": "markdown",
   "id": "fd767280-964b-4767-a60d-58a6f0de10d1",
   "metadata": {},
   "source": [
    "This involves multiple columns-based filtering and returns records only \n",
    "if all conditions are met. This can be done in multiple ways. Let us say, we \n",
    "want to filter only ‘Vivo’ users and only those with experience of more than \n",
    "10 years"
   ]
  },
  {
   "cell_type": "code",
   "execution_count": 13,
   "id": "ed45e4e5-7b47-469e-80e1-e8f3a7336905",
   "metadata": {},
   "outputs": [
    {
     "name": "stdout",
     "output_type": "stream",
     "text": [
      "+-------+---+----------+------+------+----------------+\n",
      "|ratings|age|experience|family|mobile|age_after_10_yrs|\n",
      "+-------+---+----------+------+------+----------------+\n",
      "|      5| 37|      23.0|     5|  Vivo|              47|\n",
      "|      5| 37|      13.0|     1|  Vivo|              47|\n",
      "+-------+---+----------+------+------+----------------+\n",
      "\n"
     ]
    }
   ],
   "source": [
    "df.filter(df['mobile']=='Vivo').filter(df['experience'] >10).show()"
   ]
  },
  {
   "cell_type": "markdown",
   "id": "47c15be7-89ff-43e4-bb53-ec0127c343f1",
   "metadata": {},
   "source": [
    "There is another approach to achieve the same \n",
    "results as mentioned below."
   ]
  },
  {
   "cell_type": "code",
   "execution_count": 14,
   "id": "324fc411-1973-4577-9862-0ccfa994932a",
   "metadata": {},
   "outputs": [
    {
     "name": "stdout",
     "output_type": "stream",
     "text": [
      "+-------+---+----------+------+------+----------------+\n",
      "|ratings|age|experience|family|mobile|age_after_10_yrs|\n",
      "+-------+---+----------+------+------+----------------+\n",
      "|      5| 37|      23.0|     5|  Vivo|              47|\n",
      "|      5| 37|      13.0|     1|  Vivo|              47|\n",
      "+-------+---+----------+------+------+----------------+\n",
      "\n"
     ]
    }
   ],
   "source": [
    "df.filter((df['mobile']=='Vivo')&(df['experience'] >10)).show()"
   ]
  },
  {
   "cell_type": "markdown",
   "id": "531bd977-d800-4ea1-9e02-730d0dc76cb5",
   "metadata": {},
   "source": [
    "## 4 - Distinct Values in Column"
   ]
  },
  {
   "cell_type": "markdown",
   "id": "615d7ce1-a522-4c0c-a00e-b93d7b1755c5",
   "metadata": {},
   "source": [
    "If we want to view the distinct values for any dataframe column, we can \n",
    "use the `distinct` method."
   ]
  },
  {
   "cell_type": "code",
   "execution_count": 15,
   "id": "ffe3a1a0-cb34-4d3e-a473-03f32fcb8fee",
   "metadata": {},
   "outputs": [
    {
     "name": "stdout",
     "output_type": "stream",
     "text": [
      "+-------+\n",
      "| mobile|\n",
      "+-------+\n",
      "|     MI|\n",
      "|   Oppo|\n",
      "|Samsung|\n",
      "|   Vivo|\n",
      "|  Apple|\n",
      "+-------+\n",
      "\n"
     ]
    }
   ],
   "source": [
    "df.select('mobile').distinct().show()"
   ]
  },
  {
   "cell_type": "markdown",
   "id": "9c596602-a8fd-4fc3-8e73-ac227c40469c",
   "metadata": {},
   "source": [
    "## 5 - Grouping Data"
   ]
  },
  {
   "cell_type": "markdown",
   "id": "ede7550b-26b7-4217-8eff-91aeb9b10631",
   "metadata": {},
   "source": [
    "`Grouping` is a very useful way to understand various aspects of the \n",
    "dataset. It helps to group the data based on columns values and extract \n",
    "insights. It can be used with multiple other functions as well. Let us see an \n",
    "example of the `groupBy` method using the dataframe"
   ]
  },
  {
   "cell_type": "code",
   "execution_count": 16,
   "id": "ea6e69e8-69aa-4576-8309-2cdf9219ec1e",
   "metadata": {},
   "outputs": [
    {
     "name": "stdout",
     "output_type": "stream",
     "text": [
      "+-------+-----+\n",
      "|mobile |count|\n",
      "+-------+-----+\n",
      "|MI     |8    |\n",
      "|Oppo   |7    |\n",
      "|Samsung|6    |\n",
      "|Vivo   |5    |\n",
      "|Apple  |7    |\n",
      "+-------+-----+\n",
      "\n"
     ]
    }
   ],
   "source": [
    "df.groupBy('mobile').count().show(5,False)"
   ]
  },
  {
   "cell_type": "code",
   "execution_count": 17,
   "id": "9753deb8-30e5-46ef-a373-ff059817f841",
   "metadata": {},
   "outputs": [
    {
     "name": "stdout",
     "output_type": "stream",
     "text": [
      "+-------+-----+\n",
      "|mobile |count|\n",
      "+-------+-----+\n",
      "|MI     |8    |\n",
      "|Apple  |7    |\n",
      "|Oppo   |7    |\n",
      "|Samsung|6    |\n",
      "|Vivo   |5    |\n",
      "+-------+-----+\n",
      "\n"
     ]
    }
   ],
   "source": [
    "df.groupBy('mobile').count().orderBy('count',ascending=False).show(5,False)"
   ]
  },
  {
   "cell_type": "markdown",
   "id": "7fe84f97-5cf5-4290-92e6-64a20bc3f87f",
   "metadata": {},
   "source": [
    "We can also apply the `groupBy` method to calculate statistical measures \n",
    "such as mean value, sum, min, or max value for each category."
   ]
  },
  {
   "cell_type": "code",
   "execution_count": 18,
   "id": "c2c8d0ed-0bc8-40a3-82f0-be74211a67f1",
   "metadata": {},
   "outputs": [
    {
     "name": "stdout",
     "output_type": "stream",
     "text": [
      "+-------+------------------+------------------+------------------+------------------+---------------------+\n",
      "|mobile |avg(ratings)      |avg(age)          |avg(experience)   |avg(family)       |avg(age_after_10_yrs)|\n",
      "+-------+------------------+------------------+------------------+------------------+---------------------+\n",
      "|MI     |3.5               |30.125            |10.1875           |1.375             |40.125               |\n",
      "|Oppo   |2.857142857142857 |28.428571428571427|10.357142857142858|1.4285714285714286|38.42857142857143    |\n",
      "|Samsung|4.166666666666667 |28.666666666666668|8.666666666666666 |1.8333333333333333|38.666666666666664   |\n",
      "|Vivo   |4.2               |36.0              |11.4              |1.8               |46.0                 |\n",
      "|Apple  |3.4285714285714284|30.571428571428573|11.0              |2.7142857142857144|40.57142857142857    |\n",
      "+-------+------------------+------------------+------------------+------------------+---------------------+\n",
      "\n"
     ]
    }
   ],
   "source": [
    "df.groupBy('mobile').mean().show(5,False)"
   ]
  },
  {
   "cell_type": "markdown",
   "id": "43753808-4050-4e82-a6c8-8f57dc10afd5",
   "metadata": {},
   "source": [
    "## 6 - Aggregations"
   ]
  },
  {
   "cell_type": "markdown",
   "id": "65438716-8747-4635-b7dd-cadd2e6d032f",
   "metadata": {},
   "source": [
    "We can use the `agg` function as well to achieve the similar kinds of results \n",
    "as above."
   ]
  },
  {
   "cell_type": "code",
   "execution_count": 19,
   "id": "c4eeffa8-61c7-43a1-aa8c-64a9f5e8fa8b",
   "metadata": {},
   "outputs": [
    {
     "name": "stdout",
     "output_type": "stream",
     "text": [
      "+-------+---------------+\n",
      "|mobile |sum(experience)|\n",
      "+-------+---------------+\n",
      "|MI     |81.5           |\n",
      "|Oppo   |72.5           |\n",
      "|Samsung|52.0           |\n",
      "|Vivo   |57.0           |\n",
      "|Apple  |77.0           |\n",
      "+-------+---------------+\n",
      "\n"
     ]
    }
   ],
   "source": [
    "df.groupBy('mobile').agg({'experience':'sum'}).show(5,False)"
   ]
  },
  {
   "cell_type": "markdown",
   "id": "3f3b799d-febd-4bab-9ad2-a2f444c262f0",
   "metadata": {},
   "source": [
    "## 7 - User-Defined Functions (UDFs)"
   ]
  },
  {
   "cell_type": "markdown",
   "id": "f8bb9b0d-a862-41f6-9c08-98f99db6b60b",
   "metadata": {},
   "source": [
    "**UDFs** are widely used in data processing to apply certain transformations \n",
    "to the dataframe. There are two types of UDFs available in PySpark: \n",
    "**Conventional UDF** and **Pandas UDF**. Pandas UDF are much more powerful \n",
    "in terms of speed and processing time."
   ]
  },
  {
   "cell_type": "code",
   "execution_count": 20,
   "id": "4252dc56-5008-4100-8c2e-f1921f8b6bdf",
   "metadata": {},
   "outputs": [],
   "source": [
    "from pyspark.sql.functions import udf"
   ]
  },
  {
   "cell_type": "markdown",
   "id": "ad71f1a7-31d1-442d-8664-995ff96d6abd",
   "metadata": {},
   "source": [
    "**Traditional Python Function**"
   ]
  },
  {
   "cell_type": "code",
   "execution_count": 21,
   "id": "65944ccc-c50e-4a63-87d0-dc0bbfce6979",
   "metadata": {},
   "outputs": [],
   "source": [
    "def price_range(brand):\n",
    "    if brand in ['Samsung', 'Apple']:\n",
    "        return 'High Price'\n",
    "    elif brand == 'MI':\n",
    "        return 'Mid Price'\n",
    "    else:\n",
    "        return 'Low Price'"
   ]
  },
  {
   "cell_type": "markdown",
   "id": "d6be4070-f6c2-47e6-8d6e-5fc435050882",
   "metadata": {},
   "source": [
    "We create a UDF (brand_udf) that uses this function \n",
    "and also captures its datatype to apply this tranformation on the mobile \n",
    "column of the dataframe"
   ]
  },
  {
   "cell_type": "code",
   "execution_count": 22,
   "id": "4724fb2d-1a9a-4b0a-9b5e-d65e54cdc5ed",
   "metadata": {},
   "outputs": [],
   "source": [
    "brand_udf=udf(price_range,StringType())"
   ]
  },
  {
   "cell_type": "code",
   "execution_count": 23,
   "id": "4e7ddc2b-2b1a-421a-b1b0-b6b69a829edd",
   "metadata": {},
   "outputs": [
    {
     "name": "stdout",
     "output_type": "stream",
     "text": [
      "+-------+---+----------+------+-------+----------------+-----------+\n",
      "|ratings|age|experience|family|mobile |age_after_10_yrs|price_range|\n",
      "+-------+---+----------+------+-------+----------------+-----------+\n",
      "|3      |32 |9.0       |3     |Vivo   |42              |Low Price  |\n",
      "|3      |27 |13.0      |3     |Apple  |37              |High Price |\n",
      "|4      |22 |2.5       |0     |Samsung|32              |High Price |\n",
      "|4      |37 |16.5      |4     |Apple  |47              |High Price |\n",
      "|5      |27 |9.0       |1     |MI     |37              |Mid Price  |\n",
      "|4      |27 |9.0       |0     |Oppo   |37              |Low Price  |\n",
      "|5      |37 |23.0      |5     |Vivo   |47              |Low Price  |\n",
      "|5      |37 |23.0      |5     |Samsung|47              |High Price |\n",
      "|3      |22 |2.5       |0     |Apple  |32              |High Price |\n",
      "|3      |27 |6.0       |0     |MI     |37              |Mid Price  |\n",
      "+-------+---+----------+------+-------+----------------+-----------+\n",
      "only showing top 10 rows\n",
      "\n"
     ]
    }
   ],
   "source": [
    "df.withColumn('price_range',brand_udf(df['mobile'])).show(10,False)"
   ]
  },
  {
   "cell_type": "markdown",
   "id": "bc623298-f5ec-480c-a205-fa4f6ac0e207",
   "metadata": {},
   "source": [
    "**Using Lambda Function**"
   ]
  },
  {
   "cell_type": "markdown",
   "id": "b5ed63fa-4d0c-441d-a0b4-9f509b132b40",
   "metadata": {},
   "source": [
    "Instead of defining a traditional Python function, we can make use of the \n",
    "lambda function and create a UDF in a single line of code as shown below. "
   ]
  },
  {
   "cell_type": "code",
   "execution_count": 24,
   "id": "ac64fcc5-de7e-4421-b6e3-9f657871a87f",
   "metadata": {},
   "outputs": [
    {
     "name": "stdout",
     "output_type": "stream",
     "text": [
      "+-------+---+----------+------+-------+----------------+---------+\n",
      "|ratings|age|experience|family|mobile |age_after_10_yrs|age_group|\n",
      "+-------+---+----------+------+-------+----------------+---------+\n",
      "|3      |32 |9.0       |3     |Vivo   |42              |senior   |\n",
      "|3      |27 |13.0      |3     |Apple  |37              |young    |\n",
      "|4      |22 |2.5       |0     |Samsung|32              |young    |\n",
      "|4      |37 |16.5      |4     |Apple  |47              |senior   |\n",
      "|5      |27 |9.0       |1     |MI     |37              |young    |\n",
      "|4      |27 |9.0       |0     |Oppo   |37              |young    |\n",
      "|5      |37 |23.0      |5     |Vivo   |47              |senior   |\n",
      "|5      |37 |23.0      |5     |Samsung|47              |senior   |\n",
      "|3      |22 |2.5       |0     |Apple  |32              |young    |\n",
      "|3      |27 |6.0       |0     |MI     |37              |young    |\n",
      "+-------+---+----------+------+-------+----------------+---------+\n",
      "only showing top 10 rows\n",
      "\n"
     ]
    }
   ],
   "source": [
    "age_udf = udf(lambda age: \"young\" if age <= 30 else \"senior\", StringType())\n",
    "df.withColumn(\"age_group\", age_udf(df.age)).show(10,False)"
   ]
  },
  {
   "cell_type": "markdown",
   "id": "051132ef-4a6d-4e32-adcc-266f6cb27cc9",
   "metadata": {},
   "source": [
    "**Pandas UDF (Vectorized UDF)**"
   ]
  },
  {
   "cell_type": "markdown",
   "id": "865459fd-b164-415c-a253-dc194f5eb3f1",
   "metadata": {},
   "source": [
    "Like mentioned earlier, Pandas UDFs are way faster and efficient \n",
    "compared to their peers. There are two types of Pandas UDFs:\n",
    "- Scalar\n",
    "- GroupedMap"
   ]
  },
  {
   "cell_type": "code",
   "execution_count": 25,
   "id": "8b2e613e-a161-441f-a667-31761108bb8c",
   "metadata": {},
   "outputs": [],
   "source": [
    "from pyspark.sql.functions import pandas_udf"
   ]
  },
  {
   "cell_type": "code",
   "execution_count": 26,
   "id": "317b6e46-92e9-4fc9-b428-fdf20cfa79e5",
   "metadata": {},
   "outputs": [],
   "source": [
    "from pyspark.sql.types import IntegerType"
   ]
  },
  {
   "cell_type": "markdown",
   "id": "807e779d-c11d-41ad-8fc5-7b4952346c88",
   "metadata": {},
   "source": [
    "In this example, we define a Python function that calculates the \n",
    "number of years left in a user’s life assuming a life expectancy of 100 years. "
   ]
  },
  {
   "cell_type": "code",
   "execution_count": 27,
   "id": "8194aec5-31d6-4980-9422-d5c40867713c",
   "metadata": {},
   "outputs": [],
   "source": [
    "def remaining_yrs(age):\n",
    "    yrs_left = (100-age)\n",
    "    return yrs_left"
   ]
  },
  {
   "cell_type": "code",
   "execution_count": 28,
   "id": "563de8e5-3723-4aad-9729-36272cd0c55c",
   "metadata": {},
   "outputs": [],
   "source": [
    "length_udf = pandas_udf(remaining_yrs, IntegerType())"
   ]
  },
  {
   "cell_type": "code",
   "execution_count": 29,
   "id": "b2318ce0-f88a-4e95-86e1-46e460417f71",
   "metadata": {},
   "outputs": [
    {
     "name": "stdout",
     "output_type": "stream",
     "text": [
      "+-------+---+----------+------+-------+----------------+--------+\n",
      "|ratings|age|experience|family|mobile |age_after_10_yrs|yrs_left|\n",
      "+-------+---+----------+------+-------+----------------+--------+\n",
      "|3      |32 |9.0       |3     |Vivo   |42              |68      |\n",
      "|3      |27 |13.0      |3     |Apple  |37              |73      |\n",
      "|4      |22 |2.5       |0     |Samsung|32              |78      |\n",
      "|4      |37 |16.5      |4     |Apple  |47              |63      |\n",
      "|5      |27 |9.0       |1     |MI     |37              |73      |\n",
      "|4      |27 |9.0       |0     |Oppo   |37              |73      |\n",
      "|5      |37 |23.0      |5     |Vivo   |47              |63      |\n",
      "|5      |37 |23.0      |5     |Samsung|47              |63      |\n",
      "|3      |22 |2.5       |0     |Apple  |32              |78      |\n",
      "|3      |27 |6.0       |0     |MI     |37              |73      |\n",
      "+-------+---+----------+------+-------+----------------+--------+\n",
      "only showing top 10 rows\n",
      "\n"
     ]
    }
   ],
   "source": [
    "df.withColumn(\"yrs_left\", length_udf(df['age'])).show(10, False)"
   ]
  },
  {
   "cell_type": "markdown",
   "id": "b5f8b11e-7602-46f6-88cd-595923d70f0b",
   "metadata": {},
   "source": [
    "**Pandas UDF (Multiple Columns)**"
   ]
  },
  {
   "cell_type": "markdown",
   "id": "2e1d9fc8-60bb-422e-a1be-8f9eac57d3be",
   "metadata": {},
   "source": [
    "We might face a situation where we need multiple columns as input to \n",
    "create a new column. Hence, the below example showcases the method \n",
    "of applying a Pandas UDF on multiple columns of a dataframe"
   ]
  },
  {
   "cell_type": "code",
   "execution_count": 30,
   "id": "1eb28de7-c8f5-4fae-96bb-1b8beea3ce50",
   "metadata": {},
   "outputs": [],
   "source": [
    "def prod(rating,exp):\n",
    "    x = rating*exp\n",
    "    return x"
   ]
  },
  {
   "cell_type": "code",
   "execution_count": 31,
   "id": "c391327b-7506-4af9-9ffd-0f288e78b47e",
   "metadata": {},
   "outputs": [],
   "source": [
    "prod_udf = pandas_udf(prod, DoubleType())"
   ]
  },
  {
   "cell_type": "code",
   "execution_count": 32,
   "id": "f32f3777-4e44-4ee9-8a1c-ceaa93d94087",
   "metadata": {},
   "outputs": [
    {
     "name": "stdout",
     "output_type": "stream",
     "text": [
      "+-------+---+----------+------+-------+----------------+-------+\n",
      "|ratings|age|experience|family|mobile |age_after_10_yrs|product|\n",
      "+-------+---+----------+------+-------+----------------+-------+\n",
      "|3      |32 |9.0       |3     |Vivo   |42              |27.0   |\n",
      "|3      |27 |13.0      |3     |Apple  |37              |39.0   |\n",
      "|4      |22 |2.5       |0     |Samsung|32              |10.0   |\n",
      "|4      |37 |16.5      |4     |Apple  |47              |66.0   |\n",
      "|5      |27 |9.0       |1     |MI     |37              |45.0   |\n",
      "|4      |27 |9.0       |0     |Oppo   |37              |36.0   |\n",
      "|5      |37 |23.0      |5     |Vivo   |47              |115.0  |\n",
      "|5      |37 |23.0      |5     |Samsung|47              |115.0  |\n",
      "|3      |22 |2.5       |0     |Apple  |32              |7.5    |\n",
      "|3      |27 |6.0       |0     |MI     |37              |18.0   |\n",
      "+-------+---+----------+------+-------+----------------+-------+\n",
      "only showing top 10 rows\n",
      "\n"
     ]
    }
   ],
   "source": [
    "df.withColumn(\"product\", prod_udf(df['ratings'], df['experience'])).show(10, False)"
   ]
  },
  {
   "cell_type": "markdown",
   "id": "d6804e77-aa65-4751-b420-a158e3f46fb0",
   "metadata": {},
   "source": [
    "## 8 - Drop Duplicate Values"
   ]
  },
  {
   "cell_type": "markdown",
   "id": "1e0612ad-d078-4a67-874f-d1d51662098e",
   "metadata": {},
   "source": [
    "We can use the `dropDuplicates` method in order to remove the duplicate \n",
    "records from the dataframe."
   ]
  },
  {
   "cell_type": "code",
   "execution_count": 33,
   "id": "dff8053d-b782-4ae5-97bd-32e46b88988c",
   "metadata": {},
   "outputs": [
    {
     "data": {
      "text/plain": [
       "33"
      ]
     },
     "execution_count": 33,
     "metadata": {},
     "output_type": "execute_result"
    }
   ],
   "source": [
    "df.count()"
   ]
  },
  {
   "cell_type": "code",
   "execution_count": 34,
   "id": "e4cb35f0-1cd7-4a8d-876c-5530e13cd12a",
   "metadata": {},
   "outputs": [
    {
     "data": {
      "text/plain": [
       "26"
      ]
     },
     "execution_count": 34,
     "metadata": {},
     "output_type": "execute_result"
    }
   ],
   "source": [
    "df = df.dropDuplicates()\n",
    "df.count()"
   ]
  },
  {
   "cell_type": "markdown",
   "id": "959f56d6-4e46-4621-8d03-adbf05a25bfe",
   "metadata": {},
   "source": [
    "## 9 - Delete Column"
   ]
  },
  {
   "cell_type": "markdown",
   "id": "63c4429b-8225-4f8e-acc2-65e263890881",
   "metadata": {},
   "source": [
    "We can make use of the `drop` function to remove any of the columns \n",
    "from the dataframe."
   ]
  },
  {
   "cell_type": "code",
   "execution_count": 35,
   "id": "36d48b1b-cc97-4092-825d-5e17da22576b",
   "metadata": {},
   "outputs": [
    {
     "name": "stdout",
     "output_type": "stream",
     "text": [
      "+-------+---+----------+------+----------------+\n",
      "|ratings|age|experience|family|age_after_10_yrs|\n",
      "+-------+---+----------+------+----------------+\n",
      "|      4| 37|      16.5|     4|              47|\n",
      "|      3| 42|      23.0|     5|              52|\n",
      "|      4| 37|       6.0|     0|              47|\n",
      "|      5| 37|      23.0|     5|              47|\n",
      "|      2| 27|       9.0|     2|              37|\n",
      "|      4| 22|       2.5|     0|              32|\n",
      "|      5| 27|       6.0|     0|              37|\n",
      "|      4| 27|       9.0|     0|              37|\n",
      "|      3| 22|       2.5|     0|              32|\n",
      "|      2| 27|       6.0|     2|              37|\n",
      "|      5| 27|       6.0|     2|              37|\n",
      "|      3| 27|      13.0|     3|              37|\n",
      "|      4| 37|       9.0|     2|              47|\n",
      "|      4| 22|       6.0|     1|              32|\n",
      "|      5| 22|       2.5|     0|              32|\n",
      "|      4| 27|       6.0|     1|              37|\n",
      "|      3| 32|       9.0|     3|              42|\n",
      "|      5| 27|       9.0|     1|              37|\n",
      "|      1| 37|      23.0|     5|              47|\n",
      "|      2| 42|      23.0|     2|              52|\n",
      "+-------+---+----------+------+----------------+\n",
      "only showing top 20 rows\n",
      "\n"
     ]
    }
   ],
   "source": [
    "df_new = df.drop('mobile')\n",
    "df_new.show()"
   ]
  },
  {
   "cell_type": "markdown",
   "id": "f0b4dc0a-053d-4e31-8499-ce29f3c7d2e7",
   "metadata": {},
   "source": [
    "## 10 - Writing Data"
   ]
  },
  {
   "cell_type": "markdown",
   "id": "0eb8e370-1433-476c-a4cb-9aa7e50cf538",
   "metadata": {},
   "source": [
    "Once we have the processing steps completed, we can write the clean \n",
    "dataframe to the desired location (local/cloud) in the required format."
   ]
  },
  {
   "cell_type": "markdown",
   "id": "730c63b0-0153-46d7-bf1e-7d913fdca887",
   "metadata": {},
   "source": [
    "**CSV**"
   ]
  },
  {
   "cell_type": "code",
   "execution_count": 36,
   "id": "7d8e1033-6370-48a5-860c-efe2568e08c3",
   "metadata": {},
   "outputs": [
    {
     "name": "stdout",
     "output_type": "stream",
     "text": [
      "root\n",
      " |-- ratings: integer (nullable = true)\n",
      " |-- age: integer (nullable = true)\n",
      " |-- experience: double (nullable = true)\n",
      " |-- family: integer (nullable = true)\n",
      " |-- mobile: string (nullable = true)\n",
      " |-- age_after_10_yrs: integer (nullable = true)\n",
      "\n"
     ]
    }
   ],
   "source": [
    "df.printSchema()"
   ]
  },
  {
   "cell_type": "code",
   "execution_count": 37,
   "id": "99aca338-e7b3-4001-8449-43262aaa39ec",
   "metadata": {},
   "outputs": [
    {
     "data": {
      "text/plain": [
       "'D:\\\\Valdera Project\\\\Datsci\\\\Data Engineering\\\\pyspark\\\\01 - Data Processing'"
      ]
     },
     "execution_count": 37,
     "metadata": {},
     "output_type": "execute_result"
    }
   ],
   "source": [
    "pwd"
   ]
  },
  {
   "cell_type": "code",
   "execution_count": 39,
   "id": "61c383ed-98e9-4a54-9c21-57c6f4187e4c",
   "metadata": {},
   "outputs": [],
   "source": [
    "df.toPandas().to_csv('out.csv', index=False)  "
   ]
  },
  {
   "cell_type": "code",
   "execution_count": null,
   "id": "ca461f2f-f9c2-493b-b149-1d2395d866e5",
   "metadata": {},
   "outputs": [],
   "source": []
  }
 ],
 "metadata": {
  "kernelspec": {
   "display_name": "Python 3 (ipykernel)",
   "language": "python",
   "name": "python3"
  },
  "language_info": {
   "codemirror_mode": {
    "name": "ipython",
    "version": 3
   },
   "file_extension": ".py",
   "mimetype": "text/x-python",
   "name": "python",
   "nbconvert_exporter": "python",
   "pygments_lexer": "ipython3",
   "version": "3.8.12"
  }
 },
 "nbformat": 4,
 "nbformat_minor": 5
}
